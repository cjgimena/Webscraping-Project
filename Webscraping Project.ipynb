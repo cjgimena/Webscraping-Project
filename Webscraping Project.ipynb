{
 "cells": [
  {
   "cell_type": "markdown",
   "id": "b497ebc7",
   "metadata": {},
   "source": [
    "# Introduction"
   ]
  },
  {
   "cell_type": "markdown",
   "id": "79eab785",
   "metadata": {},
   "source": [
    "- Webscrape https://www.tennislive.net for pro-level match data\n",
    "- Output two .csv files \n",
    "    - Single row dataframe for summary statistics dashboard\n",
    "    - point by point (Pbp) level csv file for Match Viewer website => to attach timestamps using website tagger"
   ]
  },
  {
   "cell_type": "markdown",
   "id": "accc8e20",
   "metadata": {},
   "source": [
    "# Install Packages"
   ]
  },
  {
   "cell_type": "code",
   "execution_count": 17,
   "id": "e9471797",
   "metadata": {},
   "outputs": [],
   "source": [
    "import requests\n",
    "\n",
    "from bs4 import BeautifulSoup\n",
    "\n",
    "import pandas as pd"
   ]
  },
  {
   "cell_type": "code",
   "execution_count": 18,
   "id": "a196a9f4",
   "metadata": {},
   "outputs": [],
   "source": [
    "page = requests.get('https://www.tennislive.net/atp/match/bernard-tomic-VS-govind-nanda/m25-tulsa-2024/')"
   ]
  },
  {
   "cell_type": "code",
   "execution_count": 19,
   "id": "2940dcd4",
   "metadata": {},
   "outputs": [],
   "source": [
    "soup = BeautifulSoup(page.text, 'html')"
   ]
  },
  {
   "cell_type": "markdown",
   "id": "ede72490",
   "metadata": {},
   "source": [
    "# Check Status Code\n",
    "- 200 = success\n",
    "- 404 = failed"
   ]
  },
  {
   "cell_type": "code",
   "execution_count": 20,
   "id": "39eab77b",
   "metadata": {},
   "outputs": [
    {
     "data": {
      "text/plain": [
       "200"
      ]
     },
     "execution_count": 20,
     "metadata": {},
     "output_type": "execute_result"
    }
   ],
   "source": [
    "page.status_code"
   ]
  },
  {
   "cell_type": "markdown",
   "id": "b61152c0",
   "metadata": {},
   "source": [
    "# Single Row For Summary Statistics Dashboard"
   ]
  },
  {
   "cell_type": "markdown",
   "id": "789d297c",
   "metadata": {},
   "source": [
    "### Match Info"
   ]
  },
  {
   "cell_type": "code",
   "execution_count": 21,
   "id": "c8de103f",
   "metadata": {},
   "outputs": [],
   "source": [
    "table = soup.find('table', class_ = 'table_pmatches')\n",
    "\n",
    "date = soup.find('td', class_ = 'w50').text.strip().split(' ')[0]\n",
    "round_info = soup.find_all('td', class_='w50')[1].text.strip()\n",
    "player1 = soup.find_all('td', class_='w130')[0].text.strip()\n",
    "player2 = soup.find_all('td', class_='w130')[1].text.strip()\n",
    "score = soup.find('span', id='score').text.strip()\n",
    "tournament = soup.find('td', class_='w200').find('a').text.strip()\n",
    "\n",
    "# Create a DataFrame\n",
    "data = {\n",
    "    'Date': [date],\n",
    "    'Round': [round_info],\n",
    "    'Player 1': [player1],\n",
    "    'Player 2': [player2],\n",
    "    'Score': [score],\n",
    "    'Tournament': [tournament]\n",
    "}\n",
    "\n",
    "df_match_info = pd.DataFrame(data)"
   ]
  },
  {
   "cell_type": "code",
   "execution_count": 22,
   "id": "7094de4c",
   "metadata": {},
   "outputs": [
    {
     "data": {
      "text/html": [
       "<div>\n",
       "<style scoped>\n",
       "    .dataframe tbody tr th:only-of-type {\n",
       "        vertical-align: middle;\n",
       "    }\n",
       "\n",
       "    .dataframe tbody tr th {\n",
       "        vertical-align: top;\n",
       "    }\n",
       "\n",
       "    .dataframe thead th {\n",
       "        text-align: right;\n",
       "    }\n",
       "</style>\n",
       "<table border=\"1\" class=\"dataframe\">\n",
       "  <thead>\n",
       "    <tr style=\"text-align: right;\">\n",
       "      <th></th>\n",
       "      <th>Date</th>\n",
       "      <th>Round</th>\n",
       "      <th>Player 1</th>\n",
       "      <th>Player 2</th>\n",
       "      <th>Score</th>\n",
       "      <th>Tournament</th>\n",
       "    </tr>\n",
       "  </thead>\n",
       "  <tbody>\n",
       "    <tr>\n",
       "      <th>0</th>\n",
       "      <td>21.06.24</td>\n",
       "      <td>1/4</td>\n",
       "      <td>Bernard Tomic</td>\n",
       "      <td>Govind Nanda</td>\n",
       "      <td>6-3, 6-1</td>\n",
       "      <td>M25 Tulsa</td>\n",
       "    </tr>\n",
       "  </tbody>\n",
       "</table>\n",
       "</div>"
      ],
      "text/plain": [
       "       Date Round       Player 1      Player 2     Score Tournament\n",
       "0  21.06.24   1/4  Bernard Tomic  Govind Nanda  6-3, 6-1  M25 Tulsa"
      ]
     },
     "execution_count": 22,
     "metadata": {},
     "output_type": "execute_result"
    }
   ],
   "source": [
    "df_match_info"
   ]
  },
  {
   "cell_type": "markdown",
   "id": "ace30260",
   "metadata": {},
   "source": [
    "### Match Statistics"
   ]
  },
  {
   "cell_type": "code",
   "execution_count": 23,
   "id": "e108572a",
   "metadata": {},
   "outputs": [],
   "source": [
    "# Function to extract data for a given statistic\n",
    "def extract_statistic(statistic):\n",
    "    row = soup.find('td', string=statistic).parent\n",
    "    player1_stat = row.find_all('td')[1].text.strip().split(' ')[0]\n",
    "    player2_stat = row.find_all('td')[2].text.strip().split(' ')[0]\n",
    "    return player1_stat, player2_stat\n",
    "\n",
    "# List of statistics to extract\n",
    "statistics = [\n",
    "    '1st SERVE %',\n",
    "    '1st SERVE POINTS WON',\n",
    "    '2nd SERVE POINTS WON',\n",
    "    'BREAK POINTS WON',\n",
    "    'TOTAL RETURN POINTS WON',\n",
    "    'TOTAL POINTS WON',\n",
    "    'DOUBLE FAULTS',\n",
    "    'ACES'\n",
    "]\n",
    "\n",
    "# Dictionary to hold the statistics\n",
    "data = {}\n",
    "\n",
    "# Extract and store statistics for both players\n",
    "for stat in statistics:\n",
    "    player1_stat, player2_stat = extract_statistic(stat)\n",
    "    stat_name = stat.lower().replace(' ', '_').replace('%', 'percentage').replace('/', '_').replace('(','').replace(')','')\n",
    "    data[f'{stat_name}_player1'] = player1_stat\n",
    "    data[f'{stat_name}_player2'] = player2_stat\n",
    "\n",
    "# Convert the dictionary to a DataFrame\n",
    "df_stats = pd.DataFrame([data])"
   ]
  },
  {
   "cell_type": "code",
   "execution_count": 24,
   "id": "1faf0eee",
   "metadata": {},
   "outputs": [
    {
     "data": {
      "text/html": [
       "<div>\n",
       "<style scoped>\n",
       "    .dataframe tbody tr th:only-of-type {\n",
       "        vertical-align: middle;\n",
       "    }\n",
       "\n",
       "    .dataframe tbody tr th {\n",
       "        vertical-align: top;\n",
       "    }\n",
       "\n",
       "    .dataframe thead th {\n",
       "        text-align: right;\n",
       "    }\n",
       "</style>\n",
       "<table border=\"1\" class=\"dataframe\">\n",
       "  <thead>\n",
       "    <tr style=\"text-align: right;\">\n",
       "      <th></th>\n",
       "      <th>1st_serve_percentage_player1</th>\n",
       "      <th>1st_serve_percentage_player2</th>\n",
       "      <th>1st_serve_points_won_player1</th>\n",
       "      <th>1st_serve_points_won_player2</th>\n",
       "      <th>2nd_serve_points_won_player1</th>\n",
       "      <th>2nd_serve_points_won_player2</th>\n",
       "      <th>break_points_won_player1</th>\n",
       "      <th>break_points_won_player2</th>\n",
       "      <th>total_return_points_won_player1</th>\n",
       "      <th>total_return_points_won_player2</th>\n",
       "      <th>total_points_won_player1</th>\n",
       "      <th>total_points_won_player2</th>\n",
       "      <th>double_faults_player1</th>\n",
       "      <th>double_faults_player2</th>\n",
       "      <th>aces_player1</th>\n",
       "      <th>aces_player2</th>\n",
       "    </tr>\n",
       "  </thead>\n",
       "  <tbody>\n",
       "    <tr>\n",
       "      <th>0</th>\n",
       "      <td>33/70</td>\n",
       "      <td>28/48</td>\n",
       "      <td>27/33</td>\n",
       "      <td>16/28</td>\n",
       "      <td>16/37</td>\n",
       "      <td>8/20</td>\n",
       "      <td>5/7</td>\n",
       "      <td>1/10</td>\n",
       "      <td>24/48</td>\n",
       "      <td>27/70</td>\n",
       "      <td>67/118</td>\n",
       "      <td>51/118</td>\n",
       "      <td>2</td>\n",
       "      <td>1</td>\n",
       "      <td>7</td>\n",
       "      <td>0</td>\n",
       "    </tr>\n",
       "  </tbody>\n",
       "</table>\n",
       "</div>"
      ],
      "text/plain": [
       "  1st_serve_percentage_player1 1st_serve_percentage_player2  \\\n",
       "0                        33/70                        28/48   \n",
       "\n",
       "  1st_serve_points_won_player1 1st_serve_points_won_player2  \\\n",
       "0                        27/33                        16/28   \n",
       "\n",
       "  2nd_serve_points_won_player1 2nd_serve_points_won_player2  \\\n",
       "0                        16/37                         8/20   \n",
       "\n",
       "  break_points_won_player1 break_points_won_player2  \\\n",
       "0                      5/7                     1/10   \n",
       "\n",
       "  total_return_points_won_player1 total_return_points_won_player2  \\\n",
       "0                           24/48                           27/70   \n",
       "\n",
       "  total_points_won_player1 total_points_won_player2 double_faults_player1  \\\n",
       "0                   67/118                   51/118                     2   \n",
       "\n",
       "  double_faults_player2 aces_player1 aces_player2  \n",
       "0                     1            7            0  "
      ]
     },
     "execution_count": 24,
     "metadata": {},
     "output_type": "execute_result"
    }
   ],
   "source": [
    "df_stats"
   ]
  },
  {
   "cell_type": "markdown",
   "id": "845eeace",
   "metadata": {},
   "source": [
    "### Combine the DataFrames by column binding them\n"
   ]
  },
  {
   "cell_type": "code",
   "execution_count": 25,
   "id": "64beb338",
   "metadata": {},
   "outputs": [
    {
     "data": {
      "text/html": [
       "<div>\n",
       "<style scoped>\n",
       "    .dataframe tbody tr th:only-of-type {\n",
       "        vertical-align: middle;\n",
       "    }\n",
       "\n",
       "    .dataframe tbody tr th {\n",
       "        vertical-align: top;\n",
       "    }\n",
       "\n",
       "    .dataframe thead th {\n",
       "        text-align: right;\n",
       "    }\n",
       "</style>\n",
       "<table border=\"1\" class=\"dataframe\">\n",
       "  <thead>\n",
       "    <tr style=\"text-align: right;\">\n",
       "      <th></th>\n",
       "      <th>Date</th>\n",
       "      <th>Round</th>\n",
       "      <th>Player 1</th>\n",
       "      <th>Player 2</th>\n",
       "      <th>Score</th>\n",
       "      <th>Tournament</th>\n",
       "      <th>1st_serve_percentage_player1</th>\n",
       "      <th>1st_serve_percentage_player2</th>\n",
       "      <th>1st_serve_points_won_player1</th>\n",
       "      <th>1st_serve_points_won_player2</th>\n",
       "      <th>...</th>\n",
       "      <th>break_points_won_player1</th>\n",
       "      <th>break_points_won_player2</th>\n",
       "      <th>total_return_points_won_player1</th>\n",
       "      <th>total_return_points_won_player2</th>\n",
       "      <th>total_points_won_player1</th>\n",
       "      <th>total_points_won_player2</th>\n",
       "      <th>double_faults_player1</th>\n",
       "      <th>double_faults_player2</th>\n",
       "      <th>aces_player1</th>\n",
       "      <th>aces_player2</th>\n",
       "    </tr>\n",
       "  </thead>\n",
       "  <tbody>\n",
       "    <tr>\n",
       "      <th>0</th>\n",
       "      <td>21.06.24</td>\n",
       "      <td>1/4</td>\n",
       "      <td>Bernard Tomic</td>\n",
       "      <td>Govind Nanda</td>\n",
       "      <td>6-3, 6-1</td>\n",
       "      <td>M25 Tulsa</td>\n",
       "      <td>33/70</td>\n",
       "      <td>28/48</td>\n",
       "      <td>27/33</td>\n",
       "      <td>16/28</td>\n",
       "      <td>...</td>\n",
       "      <td>5/7</td>\n",
       "      <td>1/10</td>\n",
       "      <td>24/48</td>\n",
       "      <td>27/70</td>\n",
       "      <td>67/118</td>\n",
       "      <td>51/118</td>\n",
       "      <td>2</td>\n",
       "      <td>1</td>\n",
       "      <td>7</td>\n",
       "      <td>0</td>\n",
       "    </tr>\n",
       "  </tbody>\n",
       "</table>\n",
       "<p>1 rows × 22 columns</p>\n",
       "</div>"
      ],
      "text/plain": [
       "       Date Round       Player 1      Player 2     Score Tournament  \\\n",
       "0  21.06.24   1/4  Bernard Tomic  Govind Nanda  6-3, 6-1  M25 Tulsa   \n",
       "\n",
       "  1st_serve_percentage_player1 1st_serve_percentage_player2  \\\n",
       "0                        33/70                        28/48   \n",
       "\n",
       "  1st_serve_points_won_player1 1st_serve_points_won_player2  ...  \\\n",
       "0                        27/33                        16/28  ...   \n",
       "\n",
       "  break_points_won_player1 break_points_won_player2  \\\n",
       "0                      5/7                     1/10   \n",
       "\n",
       "  total_return_points_won_player1 total_return_points_won_player2  \\\n",
       "0                           24/48                           27/70   \n",
       "\n",
       "  total_points_won_player1 total_points_won_player2 double_faults_player1  \\\n",
       "0                   67/118                   51/118                     2   \n",
       "\n",
       "  double_faults_player2 aces_player1 aces_player2  \n",
       "0                     1            7            0  \n",
       "\n",
       "[1 rows x 22 columns]"
      ]
     },
     "execution_count": 25,
     "metadata": {},
     "output_type": "execute_result"
    }
   ],
   "source": [
    "# Combine the DataFrames by column binding them\n",
    "df_combined = pd.concat([df_match_info, df_stats], axis=1)\n",
    "\n",
    "df_combined"
   ]
  },
  {
   "cell_type": "code",
   "execution_count": 26,
   "id": "75bb91a9",
   "metadata": {},
   "outputs": [
    {
     "data": {
      "text/html": [
       "<div>\n",
       "<style scoped>\n",
       "    .dataframe tbody tr th:only-of-type {\n",
       "        vertical-align: middle;\n",
       "    }\n",
       "\n",
       "    .dataframe tbody tr th {\n",
       "        vertical-align: top;\n",
       "    }\n",
       "\n",
       "    .dataframe thead th {\n",
       "        text-align: right;\n",
       "    }\n",
       "</style>\n",
       "<table border=\"1\" class=\"dataframe\">\n",
       "  <thead>\n",
       "    <tr style=\"text-align: right;\">\n",
       "      <th></th>\n",
       "      <th>Date</th>\n",
       "      <th>Round</th>\n",
       "      <th>Player 1</th>\n",
       "      <th>Player 2</th>\n",
       "      <th>Score</th>\n",
       "      <th>Tournament</th>\n",
       "      <th>1st_serve_percentage_player1</th>\n",
       "      <th>1st_serve_percentage_player2</th>\n",
       "      <th>1st_serve_points_won_player1</th>\n",
       "      <th>1st_serve_points_won_player2</th>\n",
       "      <th>...</th>\n",
       "      <th>break_points_won_player1</th>\n",
       "      <th>break_points_won_player2</th>\n",
       "      <th>total_return_points_won_player1</th>\n",
       "      <th>total_return_points_won_player2</th>\n",
       "      <th>total_points_won_player1</th>\n",
       "      <th>total_points_won_player2</th>\n",
       "      <th>double_faults_player1</th>\n",
       "      <th>double_faults_player2</th>\n",
       "      <th>aces_player1</th>\n",
       "      <th>aces_player2</th>\n",
       "    </tr>\n",
       "  </thead>\n",
       "  <tbody>\n",
       "    <tr>\n",
       "      <th>0</th>\n",
       "      <td>21.06.24</td>\n",
       "      <td>1/4</td>\n",
       "      <td>Bernard Tomic</td>\n",
       "      <td>Govind Nanda</td>\n",
       "      <td>6-3, 6-1</td>\n",
       "      <td>M25 Tulsa</td>\n",
       "      <td>33/70</td>\n",
       "      <td>28/48</td>\n",
       "      <td>27/33</td>\n",
       "      <td>16/28</td>\n",
       "      <td>...</td>\n",
       "      <td>5/7</td>\n",
       "      <td>1/10</td>\n",
       "      <td>24/48</td>\n",
       "      <td>27/70</td>\n",
       "      <td>67/118</td>\n",
       "      <td>51/118</td>\n",
       "      <td>2</td>\n",
       "      <td>1</td>\n",
       "      <td>7</td>\n",
       "      <td>0</td>\n",
       "    </tr>\n",
       "  </tbody>\n",
       "</table>\n",
       "<p>1 rows × 22 columns</p>\n",
       "</div>"
      ],
      "text/plain": [
       "       Date Round       Player 1      Player 2     Score Tournament  \\\n",
       "0  21.06.24   1/4  Bernard Tomic  Govind Nanda  6-3, 6-1  M25 Tulsa   \n",
       "\n",
       "  1st_serve_percentage_player1 1st_serve_percentage_player2  \\\n",
       "0                        33/70                        28/48   \n",
       "\n",
       "  1st_serve_points_won_player1 1st_serve_points_won_player2  ...  \\\n",
       "0                        27/33                        16/28  ...   \n",
       "\n",
       "  break_points_won_player1 break_points_won_player2  \\\n",
       "0                      5/7                     1/10   \n",
       "\n",
       "  total_return_points_won_player1 total_return_points_won_player2  \\\n",
       "0                           24/48                           27/70   \n",
       "\n",
       "  total_points_won_player1 total_points_won_player2 double_faults_player1  \\\n",
       "0                   67/118                   51/118                     2   \n",
       "\n",
       "  double_faults_player2 aces_player1 aces_player2  \n",
       "0                     1            7            0  \n",
       "\n",
       "[1 rows x 22 columns]"
      ]
     },
     "execution_count": 26,
     "metadata": {},
     "output_type": "execute_result"
    }
   ],
   "source": [
    "\n",
    "# Extract match information\n",
    "date = soup.find('td', class_='w50').text.strip().split(' ')[0]\n",
    "round_info = soup.find_all('td', class_='w50')[1].text.strip()\n",
    "player1 = soup.find_all('td', class_='w130')[0].text.strip()\n",
    "player2 = soup.find_all('td', class_='w130')[1].text.strip()\n",
    "score = soup.find('span', id='score').text.strip()\n",
    "tournament = soup.find('td', class_='w200').find('a').text.strip()\n",
    "\n",
    "# Create a DataFrame for match info\n",
    "match_data = {\n",
    "    'Date': [date],\n",
    "    'Round': [round_info],\n",
    "    'Player 1': [player1],\n",
    "    'Player 2': [player2],\n",
    "    'Score': [score],\n",
    "    'Tournament': [tournament]\n",
    "}\n",
    "df_match_info = pd.DataFrame(match_data)\n",
    "\n",
    "# Function to extract data for a given statistic\n",
    "def extract_statistic(statistic):\n",
    "    row = soup.find('td', string=statistic).parent\n",
    "    player1_stat = row.find_all('td')[1].text.strip().split(' ')[0]\n",
    "    player2_stat = row.find_all('td')[2].text.strip().split(' ')[0]\n",
    "    return player1_stat, player2_stat\n",
    "\n",
    "# List of statistics to extract\n",
    "statistics = [\n",
    "    '1st SERVE %',\n",
    "    '1st SERVE POINTS WON',\n",
    "    '2nd SERVE POINTS WON',\n",
    "    'BREAK POINTS WON',\n",
    "    'TOTAL RETURN POINTS WON',\n",
    "    'TOTAL POINTS WON',\n",
    "    'DOUBLE FAULTS',\n",
    "    'ACES'\n",
    "]\n",
    "\n",
    "# Dictionary to hold the statistics\n",
    "stat_data = {}\n",
    "\n",
    "# Extract and store statistics for both players\n",
    "for stat in statistics:\n",
    "    player1_stat, player2_stat = extract_statistic(stat)\n",
    "    stat_name = stat.lower().replace(' ', '_').replace('%', 'percentage').replace('/', '_').replace('(','').replace(')','')\n",
    "    stat_data[f'{stat_name}_player1'] = player1_stat\n",
    "    stat_data[f'{stat_name}_player2'] = player2_stat\n",
    "\n",
    "# Convert the dictionary to a DataFrame\n",
    "df_stats = pd.DataFrame([stat_data])\n",
    "\n",
    "# Combine the DataFrames by column binding them\n",
    "df_combined = pd.concat([df_match_info, df_stats], axis=1)\n",
    "\n",
    "df_combined"
   ]
  },
  {
   "cell_type": "code",
   "execution_count": null,
   "id": "c6a70a47",
   "metadata": {},
   "outputs": [],
   "source": []
  },
  {
   "cell_type": "code",
   "execution_count": null,
   "id": "99abe506",
   "metadata": {},
   "outputs": [],
   "source": []
  },
  {
   "cell_type": "code",
   "execution_count": null,
   "id": "c58a86d0",
   "metadata": {},
   "outputs": [],
   "source": []
  },
  {
   "cell_type": "markdown",
   "id": "39395c76",
   "metadata": {},
   "source": [
    "# Multiple Links "
   ]
  },
  {
   "cell_type": "code",
   "execution_count": 31,
   "id": "79ee104b",
   "metadata": {},
   "outputs": [],
   "source": [
    "import pandas as pd\n",
    "\n",
    "import requests\n",
    "\n",
    "from bs4 import BeautifulSoup"
   ]
  },
  {
   "cell_type": "code",
   "execution_count": 32,
   "id": "1a512cd8",
   "metadata": {},
   "outputs": [],
   "source": [
    "\n",
    "def extract_match_data(player_name, urls):\n",
    "    data_list = []\n",
    "    \n",
    "    for url in urls:\n",
    "        # Fetch HTML content from the URL\n",
    "        response = requests.get(url)\n",
    "        soup = BeautifulSoup(response.content, 'html.parser')\n",
    "        \n",
    "        # Extract match information\n",
    "        date = soup.find('td', class_='w50').text.strip().split(' ')[0]\n",
    "        round_info = soup.find_all('td', class_='w50')[1].text.strip()\n",
    "        player1 = soup.find_all('td', class_='w130')[0].text.strip()\n",
    "        player2 = soup.find_all('td', class_='w130')[1].text.strip()\n",
    "        score = soup.find('span', id='score').text.strip()\n",
    "        tournament = soup.find('td', class_='w200').find('a').text.strip()\n",
    "        \n",
    "        # Extract statistics function\n",
    "        def extract_statistic(statistic):\n",
    "            row = soup.find('td', string=statistic).parent\n",
    "            player1_stat = row.find_all('td')[1].text.strip().split(' ')[0]\n",
    "            player2_stat = row.find_all('td')[2].text.strip().split(' ')[0]\n",
    "            return player1_stat, player2_stat\n",
    "        \n",
    "        statistics = [\n",
    "            '1st SERVE %',\n",
    "            '1st SERVE POINTS WON',\n",
    "            '2nd SERVE POINTS WON',\n",
    "            'BREAK POINTS WON',\n",
    "            'TOTAL RETURN POINTS WON',\n",
    "            'TOTAL POINTS WON',\n",
    "            'DOUBLE FAULTS',\n",
    "            'ACES'\n",
    "        ]\n",
    "        \n",
    "        # Check if player1 is not equal to player_name\n",
    "        if player1 != player_name:\n",
    "            # Swap player1 and player2\n",
    "            player1, player2 = player2, player1\n",
    "            \n",
    "            # Reverse the score format\n",
    "            score_parts = score.split(',')\n",
    "            if len(score_parts) == 2:\n",
    "                set1, set2 = score_parts[0].strip(), score_parts[1].strip()\n",
    "                game1, game2 = set1.split('-'), set2.split('-')\n",
    "                reversed_score = f'{game1[1]}-{game1[0]}, {game2[1]}-{game2[0]}'\n",
    "                score = reversed_score\n",
    "            if len(score_parts) == 3:\n",
    "                set1, set2, set3 = score_parts[0].strip(), score_parts[1].strip(), score_parts[2].strip()\n",
    "                game1, game2, game3 = set1.split('-'), set2.split('-'), set3.split('-')\n",
    "                reversed_score = f'{game1[1]}-{game1[0]}, {game2[1]}-{game2[0]}, {game3[1]}-{game3[0]}'\n",
    "                score = reversed_score\n",
    "                \n",
    "            \n",
    "            # Extract statistics for swapped players\n",
    "            stat_data = {}\n",
    "            for stat in statistics:\n",
    "                player2_stat, player1_stat = extract_statistic(stat)\n",
    "                stat_name = stat.lower().replace(' ', '_').replace('%', 'percentage').replace('/', '_').replace('(','').replace(')','')\n",
    "                stat_data[f'{stat_name}_player1'] = player1_stat\n",
    "                stat_data[f'{stat_name}_player2'] = player2_stat\n",
    "        else:\n",
    "            # Extract statistics for original players\n",
    "            stat_data = {}\n",
    "            for stat in statistics:\n",
    "                player1_stat, player2_stat = extract_statistic(stat)\n",
    "                stat_name = stat.lower().replace(' ', '_').replace('%', 'percentage').replace('/', '_').replace('(','').replace(')','')\n",
    "                stat_data[f'{stat_name}_player1'] = player1_stat\n",
    "                stat_data[f'{stat_name}_player2'] = player2_stat\n",
    "        \n",
    "        # Append match data to the list\n",
    "        match_data = {\n",
    "            'Date': date,\n",
    "            'Round': round_info,\n",
    "            'Player 1': player1,\n",
    "            'Player 2': player2,\n",
    "            'Score': score,\n",
    "            'Tournament': tournament,\n",
    "            **stat_data\n",
    "        }\n",
    "        data_list.append(match_data)\n",
    "    \n",
    "    # Convert list of dictionaries to DataFrame\n",
    "    df = pd.DataFrame(data_list)\n",
    "    \n",
    "    # Sort DataFrame by Date in descending order\n",
    "    df['Date'] = pd.to_datetime(df['Date'], format='%d.%m.%y')\n",
    "    \n",
    "    df = df.sort_values(by='Date', ascending=True).reset_index(drop=True)\n",
    "    \n",
    "    return df\n"
   ]
  },
  {
   "cell_type": "markdown",
   "id": "88fe06c3",
   "metadata": {},
   "source": [
    "### INPUT (playerName) and (links) HERE"
   ]
  },
  {
   "cell_type": "code",
   "execution_count": 33,
   "id": "09d659a6",
   "metadata": {},
   "outputs": [
    {
     "data": {
      "text/html": [
       "<div>\n",
       "<style scoped>\n",
       "    .dataframe tbody tr th:only-of-type {\n",
       "        vertical-align: middle;\n",
       "    }\n",
       "\n",
       "    .dataframe tbody tr th {\n",
       "        vertical-align: top;\n",
       "    }\n",
       "\n",
       "    .dataframe thead th {\n",
       "        text-align: right;\n",
       "    }\n",
       "</style>\n",
       "<table border=\"1\" class=\"dataframe\">\n",
       "  <thead>\n",
       "    <tr style=\"text-align: right;\">\n",
       "      <th></th>\n",
       "      <th>Date</th>\n",
       "      <th>Round</th>\n",
       "      <th>Player 1</th>\n",
       "      <th>Player 2</th>\n",
       "      <th>Score</th>\n",
       "      <th>Tournament</th>\n",
       "      <th>1st_serve_percentage_player1</th>\n",
       "      <th>1st_serve_percentage_player2</th>\n",
       "      <th>1st_serve_points_won_player1</th>\n",
       "      <th>1st_serve_points_won_player2</th>\n",
       "      <th>...</th>\n",
       "      <th>break_points_won_player1</th>\n",
       "      <th>break_points_won_player2</th>\n",
       "      <th>total_return_points_won_player1</th>\n",
       "      <th>total_return_points_won_player2</th>\n",
       "      <th>total_points_won_player1</th>\n",
       "      <th>total_points_won_player2</th>\n",
       "      <th>double_faults_player1</th>\n",
       "      <th>double_faults_player2</th>\n",
       "      <th>aces_player1</th>\n",
       "      <th>aces_player2</th>\n",
       "    </tr>\n",
       "  </thead>\n",
       "  <tbody>\n",
       "    <tr>\n",
       "      <th>0</th>\n",
       "      <td>2024-05-26</td>\n",
       "      <td>q 1</td>\n",
       "      <td>Rudy Quan</td>\n",
       "      <td>Shintaro Imai</td>\n",
       "      <td>4-6, 6-4, 6-2</td>\n",
       "      <td>Little Rock</td>\n",
       "      <td>55/76</td>\n",
       "      <td>54/118</td>\n",
       "      <td>36/55</td>\n",
       "      <td>34/54</td>\n",
       "      <td>...</td>\n",
       "      <td>6/19</td>\n",
       "      <td>4/6</td>\n",
       "      <td>55/118</td>\n",
       "      <td>30/76</td>\n",
       "      <td>101/194</td>\n",
       "      <td>93/194</td>\n",
       "      <td>2</td>\n",
       "      <td>9</td>\n",
       "      <td>0</td>\n",
       "      <td>15</td>\n",
       "    </tr>\n",
       "    <tr>\n",
       "      <th>1</th>\n",
       "      <td>2024-05-27</td>\n",
       "      <td>qual.</td>\n",
       "      <td>Rudy Quan</td>\n",
       "      <td>Filip Peliwo</td>\n",
       "      <td>6-4, 6-2</td>\n",
       "      <td>Little Rock</td>\n",
       "      <td>36/51</td>\n",
       "      <td>23/49</td>\n",
       "      <td>20/36</td>\n",
       "      <td>12/23</td>\n",
       "      <td>...</td>\n",
       "      <td>7/7</td>\n",
       "      <td>4/8</td>\n",
       "      <td>32/49</td>\n",
       "      <td>25/51</td>\n",
       "      <td>58/100</td>\n",
       "      <td>42/100</td>\n",
       "      <td>1</td>\n",
       "      <td>4</td>\n",
       "      <td>0</td>\n",
       "      <td>1</td>\n",
       "    </tr>\n",
       "    <tr>\n",
       "      <th>2</th>\n",
       "      <td>2024-05-28</td>\n",
       "      <td>1st round</td>\n",
       "      <td>Rudy Quan</td>\n",
       "      <td>Stefan Kozlov</td>\n",
       "      <td>6-1, 7-5</td>\n",
       "      <td>Little Rock</td>\n",
       "      <td>42/62</td>\n",
       "      <td>41/58</td>\n",
       "      <td>25/42</td>\n",
       "      <td>19/41</td>\n",
       "      <td>...</td>\n",
       "      <td>6/11</td>\n",
       "      <td>3/6</td>\n",
       "      <td>34/58</td>\n",
       "      <td>27/62</td>\n",
       "      <td>69/120</td>\n",
       "      <td>51/120</td>\n",
       "      <td>1</td>\n",
       "      <td>3</td>\n",
       "      <td>0</td>\n",
       "      <td>0</td>\n",
       "    </tr>\n",
       "    <tr>\n",
       "      <th>3</th>\n",
       "      <td>2024-05-30</td>\n",
       "      <td>2nd round</td>\n",
       "      <td>Rudy Quan</td>\n",
       "      <td>Andres Andrade</td>\n",
       "      <td>6-3, 3-6, 6-3</td>\n",
       "      <td>Little Rock</td>\n",
       "      <td>59/84</td>\n",
       "      <td>44/89</td>\n",
       "      <td>32/59</td>\n",
       "      <td>25/44</td>\n",
       "      <td>...</td>\n",
       "      <td>8/17</td>\n",
       "      <td>6/9</td>\n",
       "      <td>48/89</td>\n",
       "      <td>42/84</td>\n",
       "      <td>90/173</td>\n",
       "      <td>83/173</td>\n",
       "      <td>7</td>\n",
       "      <td>10</td>\n",
       "      <td>1</td>\n",
       "      <td>3</td>\n",
       "    </tr>\n",
       "    <tr>\n",
       "      <th>4</th>\n",
       "      <td>2024-05-31</td>\n",
       "      <td>1/4</td>\n",
       "      <td>Rudy Quan</td>\n",
       "      <td>Yuta Shimizu</td>\n",
       "      <td>4-6, 3-6</td>\n",
       "      <td>Little Rock</td>\n",
       "      <td>64/80</td>\n",
       "      <td>37/55</td>\n",
       "      <td>29/64</td>\n",
       "      <td>21/37</td>\n",
       "      <td>...</td>\n",
       "      <td>4/7</td>\n",
       "      <td>7/16</td>\n",
       "      <td>25/55</td>\n",
       "      <td>44/80</td>\n",
       "      <td>61/135</td>\n",
       "      <td>74/135</td>\n",
       "      <td>2</td>\n",
       "      <td>1</td>\n",
       "      <td>0</td>\n",
       "      <td>4</td>\n",
       "    </tr>\n",
       "  </tbody>\n",
       "</table>\n",
       "<p>5 rows × 22 columns</p>\n",
       "</div>"
      ],
      "text/plain": [
       "        Date      Round   Player 1        Player 2          Score  \\\n",
       "0 2024-05-26        q 1  Rudy Quan   Shintaro Imai  4-6, 6-4, 6-2   \n",
       "1 2024-05-27      qual.  Rudy Quan    Filip Peliwo       6-4, 6-2   \n",
       "2 2024-05-28  1st round  Rudy Quan   Stefan Kozlov       6-1, 7-5   \n",
       "3 2024-05-30  2nd round  Rudy Quan  Andres Andrade  6-3, 3-6, 6-3   \n",
       "4 2024-05-31        1/4  Rudy Quan    Yuta Shimizu       4-6, 3-6   \n",
       "\n",
       "    Tournament 1st_serve_percentage_player1 1st_serve_percentage_player2  \\\n",
       "0  Little Rock                        55/76                       54/118   \n",
       "1  Little Rock                        36/51                        23/49   \n",
       "2  Little Rock                        42/62                        41/58   \n",
       "3  Little Rock                        59/84                        44/89   \n",
       "4  Little Rock                        64/80                        37/55   \n",
       "\n",
       "  1st_serve_points_won_player1 1st_serve_points_won_player2  ...  \\\n",
       "0                        36/55                        34/54  ...   \n",
       "1                        20/36                        12/23  ...   \n",
       "2                        25/42                        19/41  ...   \n",
       "3                        32/59                        25/44  ...   \n",
       "4                        29/64                        21/37  ...   \n",
       "\n",
       "  break_points_won_player1 break_points_won_player2  \\\n",
       "0                     6/19                      4/6   \n",
       "1                      7/7                      4/8   \n",
       "2                     6/11                      3/6   \n",
       "3                     8/17                      6/9   \n",
       "4                      4/7                     7/16   \n",
       "\n",
       "  total_return_points_won_player1 total_return_points_won_player2  \\\n",
       "0                          55/118                           30/76   \n",
       "1                           32/49                           25/51   \n",
       "2                           34/58                           27/62   \n",
       "3                           48/89                           42/84   \n",
       "4                           25/55                           44/80   \n",
       "\n",
       "  total_points_won_player1 total_points_won_player2 double_faults_player1  \\\n",
       "0                  101/194                   93/194                     2   \n",
       "1                   58/100                   42/100                     1   \n",
       "2                   69/120                   51/120                     1   \n",
       "3                   90/173                   83/173                     7   \n",
       "4                   61/135                   74/135                     2   \n",
       "\n",
       "  double_faults_player2 aces_player1 aces_player2  \n",
       "0                     9            0           15  \n",
       "1                     4            0            1  \n",
       "2                     3            0            0  \n",
       "3                    10            1            3  \n",
       "4                     1            0            4  \n",
       "\n",
       "[5 rows x 22 columns]"
      ]
     },
     "execution_count": 33,
     "metadata": {},
     "output_type": "execute_result"
    }
   ],
   "source": [
    "# Example usage:\n",
    "player_name = \"Rudy Quan\"\n",
    "\n",
    "urls = [\n",
    "    'https://www.tennislive.net/atp/match/rudy-quan-VS-shintaro-imai/little-rock-challenger-2024/',\n",
    "    'https://www.tennislive.net/atp/match/rudy-quan-VS-filip-peliwo/little-rock-challenger-2024/',\n",
    "    'https://www.tennislive.net/atp/match/rudy-quan-VS-stefan-kozlov/little-rock-challenger-2024/',\n",
    "    'https://www.tennislive.net/atp/match/yuta-shimizu-VS-rudy-quan/little-rock-challenger-2024/',\n",
    "    'https://www.tennislive.net/atp/match/rudy-quan-VS-andres-andrade/little-rock-challenger-2024/'\n",
    "]\n",
    "\n",
    "df = extract_match_data(player_name, urls)\n",
    "df\n"
   ]
  },
  {
   "cell_type": "code",
   "execution_count": 34,
   "id": "d71ad073",
   "metadata": {},
   "outputs": [],
   "source": [
    "    \n",
    "# score = \"6-4, 6-2\"\n",
    "    \n",
    "# # Reverse the score format\n",
    "# score_parts = score.split(',')\n",
    "# if len(score_parts) == 2:\n",
    "#     set1, set2 = score_parts[0].strip(), score_parts[1].strip()\n",
    "#     game1, game2 = set1.split('-'), set2.split('-')\n",
    "#     reversed_score = f'{game1[1]}-{game1[0]}, {game2[1]}-{game2[0]}'\n",
    "#     score = reversed_score\n",
    "        \n",
    "# scoredd"
   ]
  },
  {
   "cell_type": "markdown",
   "id": "0f9bc184",
   "metadata": {},
   "source": [
    "# Point by Point Dataframe"
   ]
  },
  {
   "cell_type": "code",
   "execution_count": 133,
   "id": "24c90656",
   "metadata": {},
   "outputs": [],
   "source": [
    "page = requests.get('https://www.tennislive.net/atp/match/yuta-shimizu-VS-rudy-quan/little-rock-challenger-2024/')"
   ]
  },
  {
   "cell_type": "code",
   "execution_count": 134,
   "id": "b6d15b80",
   "metadata": {},
   "outputs": [],
   "source": [
    "# page = requests.get('https://www.tennislive.net/atp/match/jorge-plans-VS-mikel-lopez-hernaez/m25-bakio-2024/')"
   ]
  },
  {
   "cell_type": "code",
   "execution_count": 135,
   "id": "26e39c82",
   "metadata": {},
   "outputs": [],
   "source": [
    "soup = BeautifulSoup(page.text, 'html')"
   ]
  },
  {
   "cell_type": "markdown",
   "id": "e78a0485",
   "metadata": {},
   "source": [
    "# Check Status Code\n",
    "- 200 = success\n",
    "- 404 = failed"
   ]
  },
  {
   "cell_type": "code",
   "execution_count": 136,
   "id": "8066540a",
   "metadata": {},
   "outputs": [
    {
     "data": {
      "text/plain": [
       "200"
      ]
     },
     "execution_count": 136,
     "metadata": {},
     "output_type": "execute_result"
    }
   ],
   "source": [
    "page.status_code"
   ]
  },
  {
   "cell_type": "code",
   "execution_count": 137,
   "id": "73df91f9",
   "metadata": {},
   "outputs": [],
   "source": [
    "table = soup.find_all('table', class_ = 'table_stats_match')\n"
   ]
  },
  {
   "cell_type": "code",
   "execution_count": 138,
   "id": "1223b8de",
   "metadata": {},
   "outputs": [
    {
     "data": {
      "text/plain": [
       "<table class=\"table_stats_match\"><tr class=\"mp_tour_head\"><td colspan=\"3\" width=\"100%\">1</td></tr><tr><td class=\"mp_serve\" width=\"40%\"></td><td class=\"mp_info_txt\" width=\"18%\">0-0</td><td class=\"mp_serve\" width=\"40%\">Rudy Quan <img alt=\"Rudy Quan serve\" height=\"8\" src=\"https://www.tennislive.net/styles/images/tennis_ball.gif\" title=\"Rudy Quan serve\" width=\"8\"/></td></tr><tr><td class=\"mp_15\" colspan=\"3\" width=\"99%\">0-0, 0-15, 15-15, 15-30, 30-30, 30-40, 40-40, A-40<span title=\"Break point\">[BP]</span>, 40-40, 40-A, 40-40, 40-A, 40-40, 40-A, 40-40, 40-A, 40-40, 40-A, 40-40, 40-A</td></tr><tr><td class=\"mp_serve\" width=\"40%\">Yuta Shimizu <img alt=\"Yuta Shimizu serve\" height=\"8\" src=\"https://www.tennislive.net/styles/images/tennis_ball.gif\" title=\"Yuta Shimizu serve\" width=\"8\"/></td><td class=\"mp_info_txt\" width=\"18%\">0-1</td><td class=\"mp_serve\" width=\"40%\"></td></tr><tr><td class=\"mp_15\" colspan=\"3\" width=\"99%\">0-0, 0-15, 0-30, 15-30, 15-40<span title=\"Break point\">[BP]</span></td></tr><tr><td class=\"mp_serve\" width=\"40%\"></td><td class=\"mp_info_txt\" width=\"18%\">0-2</td><td class=\"mp_serve\" width=\"40%\">Rudy Quan <img alt=\"Rudy Quan serve\" height=\"8\" src=\"https://www.tennislive.net/styles/images/tennis_ball.gif\" title=\"Rudy Quan serve\" width=\"8\"/></td></tr><tr><td class=\"mp_15\" colspan=\"3\" width=\"99%\">0-0, 0-15, 0-30, 15-30, 30-30, 40-30<span title=\"Break point\">[BP]</span></td></tr><tr><td class=\"mp_serve\" width=\"40%\">Yuta Shimizu <img alt=\"Yuta Shimizu serve\" height=\"8\" src=\"https://www.tennislive.net/styles/images/tennis_ball.gif\" title=\"Yuta Shimizu serve\" width=\"8\"/></td><td class=\"mp_info_txt\" width=\"18%\">1-2</td><td class=\"mp_serve\" width=\"40%\"></td></tr><tr><td class=\"mp_15\" colspan=\"3\" width=\"99%\">0-0, 15-0, 30-0, 30-15, 40-15</td></tr><tr><td class=\"mp_serve\" width=\"40%\"></td><td class=\"mp_info_txt\" width=\"18%\">2-2</td><td class=\"mp_serve\" width=\"40%\">Rudy Quan <img alt=\"Rudy Quan serve\" height=\"8\" src=\"https://www.tennislive.net/styles/images/tennis_ball.gif\" title=\"Rudy Quan serve\" width=\"8\"/></td></tr><tr><td class=\"mp_15\" colspan=\"3\" width=\"99%\">0-0, 15-0, 15-15, 15-30, 30-30, 40-30<span title=\"Break point\">[BP]</span>, 40-40, A-40<span title=\"Break point\">[BP]</span></td></tr><tr><td class=\"mp_serve\" width=\"40%\">Yuta Shimizu <img alt=\"Yuta Shimizu serve\" height=\"8\" src=\"https://www.tennislive.net/styles/images/tennis_ball.gif\" title=\"Yuta Shimizu serve\" width=\"8\"/></td><td class=\"mp_info_txt\" width=\"18%\">3-2</td><td class=\"mp_serve\" width=\"40%\"></td></tr><tr><td class=\"mp_15\" colspan=\"3\" width=\"99%\">0-0, 15-0, 30-0, 40-0</td></tr><tr><td class=\"mp_serve\" width=\"40%\"></td><td class=\"mp_info_txt\" width=\"18%\">4-2</td><td class=\"mp_serve\" width=\"40%\">Rudy Quan <img alt=\"Rudy Quan serve\" height=\"8\" src=\"https://www.tennislive.net/styles/images/tennis_ball.gif\" title=\"Rudy Quan serve\" width=\"8\"/></td></tr><tr><td class=\"mp_15\" colspan=\"3\" width=\"99%\">0-0, 0-15, 0-30, 0-40</td></tr><tr><td class=\"mp_serve\" width=\"40%\">Yuta Shimizu <img alt=\"Yuta Shimizu serve\" height=\"8\" src=\"https://www.tennislive.net/styles/images/tennis_ball.gif\" title=\"Yuta Shimizu serve\" width=\"8\"/></td><td class=\"mp_info_txt\" width=\"18%\">4-3</td><td class=\"mp_serve\" width=\"40%\"></td></tr><tr><td class=\"mp_15\" colspan=\"3\" width=\"99%\">0-0, 15-0, 15-15, 15-30, 30-30, 30-40<span title=\"Break point\">[BP]</span></td></tr><tr><td class=\"mp_serve\" width=\"40%\"></td><td class=\"mp_info_txt\" width=\"18%\">4-4</td><td class=\"mp_serve\" width=\"40%\">Rudy Quan <img alt=\"Rudy Quan serve\" height=\"8\" src=\"https://www.tennislive.net/styles/images/tennis_ball.gif\" title=\"Rudy Quan serve\" width=\"8\"/></td></tr><tr><td class=\"mp_15\" colspan=\"3\" width=\"99%\">0-0, 0-15, 15-15, 30-15, 40-15<span title=\"Break point\">[BP]</span>, 40-30<span title=\"Break point\">[BP]</span></td></tr><tr><td class=\"mp_serve\" width=\"40%\">Yuta Shimizu <img alt=\"Yuta Shimizu serve\" height=\"8\" src=\"https://www.tennislive.net/styles/images/tennis_ball.gif\" title=\"Yuta Shimizu serve\" width=\"8\"/></td><td class=\"mp_info_txt\" width=\"18%\">5-4</td><td class=\"mp_serve\" width=\"40%\"></td></tr><tr><td class=\"mp_15\" colspan=\"3\" width=\"99%\">0-0, 0-15, 15-15, 30-15, 30-30, 30-40<span title=\"Break point\">[BP]</span>, 40-40, 40-A<span title=\"Break point\">[BP]</span>, 40-40, A-40</td></tr><tr><td class=\"mp_serve\" width=\"40%\"></td><td class=\"mp_info_txt\" width=\"18%\">6-4</td><td class=\"mp_serve\" width=\"40%\">Rudy Quan <img alt=\"Rudy Quan serve\" height=\"8\" src=\"https://www.tennislive.net/styles/images/tennis_ball.gif\" title=\"Rudy Quan serve\" width=\"8\"/></td></tr><tr><td class=\"mp_15\" colspan=\"3\" width=\"99%\">0-0, 15-0, 30-0, 30-15, 40-15<span title=\"Break point\">[BP]</span>, 40-30<span title=\"Break point\">[BP]</span></td></tr><tr class=\"result\"><td class=\"mp_serve\" width=\"40%\"></td><td class=\"mp_info_txt\" width=\"18%\">6-4</td><td class=\"mp_serve\" width=\"40%\"></td></tr></table>"
      ]
     },
     "execution_count": 138,
     "metadata": {},
     "output_type": "execute_result"
    }
   ],
   "source": [
    "table[1]"
   ]
  },
  {
   "cell_type": "code",
   "execution_count": 139,
   "id": "72c29330",
   "metadata": {},
   "outputs": [
    {
     "data": {
      "text/plain": [
       "[<td class=\"mp_15\" colspan=\"3\" width=\"99%\">0-0, 0-15, 15-15, 15-30, 30-30, 30-40, 40-40, A-40<span title=\"Break point\">[BP]</span>, 40-40, 40-A, 40-40, 40-A, 40-40, 40-A, 40-40, 40-A, 40-40, 40-A, 40-40, 40-A</td>]"
      ]
     },
     "execution_count": 139,
     "metadata": {},
     "output_type": "execute_result"
    }
   ],
   "source": [
    "soup.find_all('table', class_='table_stats_match')[1].find_all('tr')[2].find_all('td')"
   ]
  },
  {
   "cell_type": "code",
   "execution_count": 140,
   "id": "14fc9c9e",
   "metadata": {},
   "outputs": [
    {
     "data": {
      "text/plain": [
       "[<tr><td class=\"mp_serve\" width=\"40%\"></td><td class=\"mp_info_txt\" width=\"18%\">0-0</td><td class=\"mp_serve\" width=\"40%\">Rudy Quan <img alt=\"Rudy Quan serve\" height=\"8\" src=\"https://www.tennislive.net/styles/images/tennis_ball.gif\" title=\"Rudy Quan serve\" width=\"8\"/></td></tr>,\n",
       " <tr><td class=\"mp_15\" colspan=\"3\" width=\"99%\">0-0, 0-15, 15-15, 15-30, 30-30, 30-40, 40-40, A-40<span title=\"Break point\">[BP]</span>, 40-40, 40-A, 40-40, 40-A, 40-40, 40-A, 40-40, 40-A, 40-40, 40-A, 40-40, 40-A</td></tr>,\n",
       " <tr><td class=\"mp_serve\" width=\"40%\">Yuta Shimizu <img alt=\"Yuta Shimizu serve\" height=\"8\" src=\"https://www.tennislive.net/styles/images/tennis_ball.gif\" title=\"Yuta Shimizu serve\" width=\"8\"/></td><td class=\"mp_info_txt\" width=\"18%\">0-1</td><td class=\"mp_serve\" width=\"40%\"></td></tr>,\n",
       " <tr><td class=\"mp_15\" colspan=\"3\" width=\"99%\">0-0, 0-15, 0-30, 15-30, 15-40<span title=\"Break point\">[BP]</span></td></tr>,\n",
       " <tr><td class=\"mp_serve\" width=\"40%\"></td><td class=\"mp_info_txt\" width=\"18%\">0-2</td><td class=\"mp_serve\" width=\"40%\">Rudy Quan <img alt=\"Rudy Quan serve\" height=\"8\" src=\"https://www.tennislive.net/styles/images/tennis_ball.gif\" title=\"Rudy Quan serve\" width=\"8\"/></td></tr>,\n",
       " <tr><td class=\"mp_15\" colspan=\"3\" width=\"99%\">0-0, 0-15, 0-30, 15-30, 30-30, 40-30<span title=\"Break point\">[BP]</span></td></tr>,\n",
       " <tr><td class=\"mp_serve\" width=\"40%\">Yuta Shimizu <img alt=\"Yuta Shimizu serve\" height=\"8\" src=\"https://www.tennislive.net/styles/images/tennis_ball.gif\" title=\"Yuta Shimizu serve\" width=\"8\"/></td><td class=\"mp_info_txt\" width=\"18%\">1-2</td><td class=\"mp_serve\" width=\"40%\"></td></tr>,\n",
       " <tr><td class=\"mp_15\" colspan=\"3\" width=\"99%\">0-0, 15-0, 30-0, 30-15, 40-15</td></tr>,\n",
       " <tr><td class=\"mp_serve\" width=\"40%\"></td><td class=\"mp_info_txt\" width=\"18%\">2-2</td><td class=\"mp_serve\" width=\"40%\">Rudy Quan <img alt=\"Rudy Quan serve\" height=\"8\" src=\"https://www.tennislive.net/styles/images/tennis_ball.gif\" title=\"Rudy Quan serve\" width=\"8\"/></td></tr>,\n",
       " <tr><td class=\"mp_15\" colspan=\"3\" width=\"99%\">0-0, 15-0, 15-15, 15-30, 30-30, 40-30<span title=\"Break point\">[BP]</span>, 40-40, A-40<span title=\"Break point\">[BP]</span></td></tr>,\n",
       " <tr><td class=\"mp_serve\" width=\"40%\">Yuta Shimizu <img alt=\"Yuta Shimizu serve\" height=\"8\" src=\"https://www.tennislive.net/styles/images/tennis_ball.gif\" title=\"Yuta Shimizu serve\" width=\"8\"/></td><td class=\"mp_info_txt\" width=\"18%\">3-2</td><td class=\"mp_serve\" width=\"40%\"></td></tr>,\n",
       " <tr><td class=\"mp_15\" colspan=\"3\" width=\"99%\">0-0, 15-0, 30-0, 40-0</td></tr>,\n",
       " <tr><td class=\"mp_serve\" width=\"40%\"></td><td class=\"mp_info_txt\" width=\"18%\">4-2</td><td class=\"mp_serve\" width=\"40%\">Rudy Quan <img alt=\"Rudy Quan serve\" height=\"8\" src=\"https://www.tennislive.net/styles/images/tennis_ball.gif\" title=\"Rudy Quan serve\" width=\"8\"/></td></tr>,\n",
       " <tr><td class=\"mp_15\" colspan=\"3\" width=\"99%\">0-0, 0-15, 0-30, 0-40</td></tr>,\n",
       " <tr><td class=\"mp_serve\" width=\"40%\">Yuta Shimizu <img alt=\"Yuta Shimizu serve\" height=\"8\" src=\"https://www.tennislive.net/styles/images/tennis_ball.gif\" title=\"Yuta Shimizu serve\" width=\"8\"/></td><td class=\"mp_info_txt\" width=\"18%\">4-3</td><td class=\"mp_serve\" width=\"40%\"></td></tr>,\n",
       " <tr><td class=\"mp_15\" colspan=\"3\" width=\"99%\">0-0, 15-0, 15-15, 15-30, 30-30, 30-40<span title=\"Break point\">[BP]</span></td></tr>,\n",
       " <tr><td class=\"mp_serve\" width=\"40%\"></td><td class=\"mp_info_txt\" width=\"18%\">4-4</td><td class=\"mp_serve\" width=\"40%\">Rudy Quan <img alt=\"Rudy Quan serve\" height=\"8\" src=\"https://www.tennislive.net/styles/images/tennis_ball.gif\" title=\"Rudy Quan serve\" width=\"8\"/></td></tr>,\n",
       " <tr><td class=\"mp_15\" colspan=\"3\" width=\"99%\">0-0, 0-15, 15-15, 30-15, 40-15<span title=\"Break point\">[BP]</span>, 40-30<span title=\"Break point\">[BP]</span></td></tr>,\n",
       " <tr><td class=\"mp_serve\" width=\"40%\">Yuta Shimizu <img alt=\"Yuta Shimizu serve\" height=\"8\" src=\"https://www.tennislive.net/styles/images/tennis_ball.gif\" title=\"Yuta Shimizu serve\" width=\"8\"/></td><td class=\"mp_info_txt\" width=\"18%\">5-4</td><td class=\"mp_serve\" width=\"40%\"></td></tr>,\n",
       " <tr><td class=\"mp_15\" colspan=\"3\" width=\"99%\">0-0, 0-15, 15-15, 30-15, 30-30, 30-40<span title=\"Break point\">[BP]</span>, 40-40, 40-A<span title=\"Break point\">[BP]</span>, 40-40, A-40</td></tr>,\n",
       " <tr><td class=\"mp_serve\" width=\"40%\"></td><td class=\"mp_info_txt\" width=\"18%\">6-4</td><td class=\"mp_serve\" width=\"40%\">Rudy Quan <img alt=\"Rudy Quan serve\" height=\"8\" src=\"https://www.tennislive.net/styles/images/tennis_ball.gif\" title=\"Rudy Quan serve\" width=\"8\"/></td></tr>,\n",
       " <tr><td class=\"mp_15\" colspan=\"3\" width=\"99%\">0-0, 15-0, 30-0, 30-15, 40-15<span title=\"Break point\">[BP]</span>, 40-30<span title=\"Break point\">[BP]</span></td></tr>]"
      ]
     },
     "execution_count": 140,
     "metadata": {},
     "output_type": "execute_result"
    }
   ],
   "source": [
    "soup.find_all('table', class_='table_stats_match')[1].find_all('tr', class_=None)"
   ]
  },
  {
   "cell_type": "code",
   "execution_count": 141,
   "id": "1d727aa7",
   "metadata": {},
   "outputs": [],
   "source": [
    "set_1 = soup.find_all('table', class_='table_stats_match')[1].find_all('tr', class_=None)"
   ]
  },
  {
   "cell_type": "code",
   "execution_count": 142,
   "id": "da79a042",
   "metadata": {},
   "outputs": [
    {
     "data": {
      "text/plain": [
       "'Rudy Quan'"
      ]
     },
     "execution_count": 142,
     "metadata": {},
     "output_type": "execute_result"
    }
   ],
   "source": [
    "' '.join(set_1[0].find('img')['alt'].split()[0:2])"
   ]
  },
  {
   "cell_type": "code",
   "execution_count": 143,
   "id": "dbed0e54",
   "metadata": {},
   "outputs": [
    {
     "data": {
      "text/plain": [
       "<td class=\"mp_15\" colspan=\"3\" width=\"99%\">0-0, 0-15, 15-15, 15-30, 30-30, 30-40, 40-40, A-40<span title=\"Break point\">[BP]</span>, 40-40, 40-A, 40-40, 40-A, 40-40, 40-A, 40-40, 40-A, 40-40, 40-A, 40-40, 40-A</td>"
      ]
     },
     "execution_count": 143,
     "metadata": {},
     "output_type": "execute_result"
    }
   ],
   "source": [
    "set_1[1].find('td')"
   ]
  },
  {
   "cell_type": "code",
   "execution_count": 144,
   "id": "6fce5a68",
   "metadata": {},
   "outputs": [
    {
     "data": {
      "text/plain": [
       "['0-0',\n",
       " '0-15',\n",
       " '15-15',\n",
       " '15-30',\n",
       " '30-30',\n",
       " '30-40',\n",
       " '40-40',\n",
       " 'A-40',\n",
       " '40-40',\n",
       " '40-A',\n",
       " '40-40',\n",
       " '40-A',\n",
       " '40-40',\n",
       " '40-A',\n",
       " '40-40',\n",
       " '40-A',\n",
       " '40-40',\n",
       " '40-A',\n",
       " '40-40',\n",
       " '40-A']"
      ]
     },
     "execution_count": 144,
     "metadata": {},
     "output_type": "execute_result"
    }
   ],
   "source": [
    "set_1[1].find('td').text.replace('[BP]', '').split(', ')"
   ]
  },
  {
   "cell_type": "code",
   "execution_count": 145,
   "id": "f389dc84",
   "metadata": {},
   "outputs": [
    {
     "data": {
      "text/plain": [
       "'0-0'"
      ]
     },
     "execution_count": 145,
     "metadata": {},
     "output_type": "execute_result"
    }
   ],
   "source": [
    "set_1[0].find('td', class_='mp_info_txt').text.strip()"
   ]
  },
  {
   "cell_type": "code",
   "execution_count": 146,
   "id": "3cc39616",
   "metadata": {},
   "outputs": [],
   "source": [
    "server_names = []\n",
    "point_scores = []\n",
    "game_scores = []\n",
    "\n",
    "for i in range(0, len(set_1), 2):\n",
    "    server_name = ' '.join(set_1[i].find('img')['alt'].split()[0:2])\n",
    "    game_score = set_1[i].find('td', class_='mp_info_txt').text.strip()\n",
    "    points = set_1[i + 1].find('td').text.replace('[BP]', '').split(', ')\n",
    "    for point in points:\n",
    "        server_names.append(server_name)\n",
    "        point_scores.append(point)\n",
    "        game_scores.append(game_score)\n"
   ]
  },
  {
   "cell_type": "code",
   "execution_count": 147,
   "id": "486f4133",
   "metadata": {},
   "outputs": [],
   "source": [
    "df = pd.DataFrame({\n",
    "    'point_score': point_scores,\n",
    "    'server_name': server_names,\n",
    "    'game_score': game_scores\n",
    "})\n",
    "df = df.replace(df['game_score'].iloc[-1], '0-0')"
   ]
  },
  {
   "cell_type": "code",
   "execution_count": 148,
   "id": "bf522be8",
   "metadata": {
    "scrolled": true
   },
   "outputs": [
    {
     "data": {
      "text/plain": [
       "('Yuta Shimizu', 'Rudy Quan')"
      ]
     },
     "execution_count": 148,
     "metadata": {},
     "output_type": "execute_result"
    }
   ],
   "source": [
    "table = soup.find('table', class_ = 'table_pmatches')\n",
    "\n",
    "player1 = soup.find_all('td', class_='w130')[0].text.strip()\n",
    "player2 = soup.find_all('td', class_='w130')[1].text.strip()\n",
    "\n",
    "player1, player2"
   ]
  },
  {
   "cell_type": "code",
   "execution_count": 149,
   "id": "65cc9380",
   "metadata": {},
   "outputs": [
    {
     "data": {
      "text/html": [
       "<div>\n",
       "<style scoped>\n",
       "    .dataframe tbody tr th:only-of-type {\n",
       "        vertical-align: middle;\n",
       "    }\n",
       "\n",
       "    .dataframe tbody tr th {\n",
       "        vertical-align: top;\n",
       "    }\n",
       "\n",
       "    .dataframe thead th {\n",
       "        text-align: right;\n",
       "    }\n",
       "</style>\n",
       "<table border=\"1\" class=\"dataframe\">\n",
       "  <thead>\n",
       "    <tr style=\"text-align: right;\">\n",
       "      <th></th>\n",
       "      <th>point_score</th>\n",
       "      <th>server_name</th>\n",
       "      <th>game_score</th>\n",
       "    </tr>\n",
       "  </thead>\n",
       "  <tbody>\n",
       "    <tr>\n",
       "      <th>0</th>\n",
       "      <td>0-0</td>\n",
       "      <td>Rudy Quan</td>\n",
       "      <td>0-0</td>\n",
       "    </tr>\n",
       "    <tr>\n",
       "      <th>1</th>\n",
       "      <td>0-15</td>\n",
       "      <td>Rudy Quan</td>\n",
       "      <td>0-0</td>\n",
       "    </tr>\n",
       "    <tr>\n",
       "      <th>2</th>\n",
       "      <td>15-15</td>\n",
       "      <td>Rudy Quan</td>\n",
       "      <td>0-0</td>\n",
       "    </tr>\n",
       "    <tr>\n",
       "      <th>3</th>\n",
       "      <td>15-30</td>\n",
       "      <td>Rudy Quan</td>\n",
       "      <td>0-0</td>\n",
       "    </tr>\n",
       "    <tr>\n",
       "      <th>4</th>\n",
       "      <td>30-30</td>\n",
       "      <td>Rudy Quan</td>\n",
       "      <td>0-0</td>\n",
       "    </tr>\n",
       "    <tr>\n",
       "      <th>...</th>\n",
       "      <td>...</td>\n",
       "      <td>...</td>\n",
       "      <td>...</td>\n",
       "    </tr>\n",
       "    <tr>\n",
       "      <th>75</th>\n",
       "      <td>15-0</td>\n",
       "      <td>Rudy Quan</td>\n",
       "      <td>0-0</td>\n",
       "    </tr>\n",
       "    <tr>\n",
       "      <th>76</th>\n",
       "      <td>30-0</td>\n",
       "      <td>Rudy Quan</td>\n",
       "      <td>0-0</td>\n",
       "    </tr>\n",
       "    <tr>\n",
       "      <th>77</th>\n",
       "      <td>30-15</td>\n",
       "      <td>Rudy Quan</td>\n",
       "      <td>0-0</td>\n",
       "    </tr>\n",
       "    <tr>\n",
       "      <th>78</th>\n",
       "      <td>40-15</td>\n",
       "      <td>Rudy Quan</td>\n",
       "      <td>0-0</td>\n",
       "    </tr>\n",
       "    <tr>\n",
       "      <th>79</th>\n",
       "      <td>40-30</td>\n",
       "      <td>Rudy Quan</td>\n",
       "      <td>0-0</td>\n",
       "    </tr>\n",
       "  </tbody>\n",
       "</table>\n",
       "<p>80 rows × 3 columns</p>\n",
       "</div>"
      ],
      "text/plain": [
       "   point_score server_name game_score\n",
       "0          0-0   Rudy Quan        0-0\n",
       "1         0-15   Rudy Quan        0-0\n",
       "2        15-15   Rudy Quan        0-0\n",
       "3        15-30   Rudy Quan        0-0\n",
       "4        30-30   Rudy Quan        0-0\n",
       "..         ...         ...        ...\n",
       "75        15-0   Rudy Quan        0-0\n",
       "76        30-0   Rudy Quan        0-0\n",
       "77       30-15   Rudy Quan        0-0\n",
       "78       40-15   Rudy Quan        0-0\n",
       "79       40-30   Rudy Quan        0-0\n",
       "\n",
       "[80 rows x 3 columns]"
      ]
     },
     "execution_count": 149,
     "metadata": {},
     "output_type": "execute_result"
    }
   ],
   "source": [
    "df"
   ]
  },
  {
   "cell_type": "code",
   "execution_count": 150,
   "id": "b7e83208",
   "metadata": {
    "scrolled": true
   },
   "outputs": [
    {
     "data": {
      "text/plain": [
       "'30-15'"
      ]
     },
     "execution_count": 150,
     "metadata": {},
     "output_type": "execute_result"
    }
   ],
   "source": [
    "first, second = df['point_score'][3].split('-')\n",
    "new = f'{second}-{first}'\n",
    "new"
   ]
  },
  {
   "cell_type": "code",
   "execution_count": 151,
   "id": "fd96325b",
   "metadata": {
    "scrolled": true
   },
   "outputs": [
    {
     "data": {
      "text/plain": [
       "'30-15'"
      ]
     },
     "execution_count": 151,
     "metadata": {},
     "output_type": "execute_result"
    }
   ],
   "source": [
    "'-'.join(df['point_score'][3].split('-')[::-1])"
   ]
  },
  {
   "cell_type": "code",
   "execution_count": 152,
   "id": "f34ab038",
   "metadata": {},
   "outputs": [],
   "source": [
    "df['point_score'] = df.apply(lambda x : '-'.join(x['point_score'].split('-')[::-1]) if x['server_name'] == player2 else x['point_score'], axis=1)\n",
    "df['game_score'] = df.apply(lambda x : '-'.join(x['game_score'].split('-')[::-1]) if x['server_name'] == player2 else x['game_score'], axis=1)"
   ]
  },
  {
   "cell_type": "code",
   "execution_count": 153,
   "id": "3d3a97a1",
   "metadata": {},
   "outputs": [
    {
     "data": {
      "text/html": [
       "<div>\n",
       "<style scoped>\n",
       "    .dataframe tbody tr th:only-of-type {\n",
       "        vertical-align: middle;\n",
       "    }\n",
       "\n",
       "    .dataframe tbody tr th {\n",
       "        vertical-align: top;\n",
       "    }\n",
       "\n",
       "    .dataframe thead th {\n",
       "        text-align: right;\n",
       "    }\n",
       "</style>\n",
       "<table border=\"1\" class=\"dataframe\">\n",
       "  <thead>\n",
       "    <tr style=\"text-align: right;\">\n",
       "      <th></th>\n",
       "      <th>point_score</th>\n",
       "      <th>server_name</th>\n",
       "      <th>game_score</th>\n",
       "    </tr>\n",
       "  </thead>\n",
       "  <tbody>\n",
       "    <tr>\n",
       "      <th>0</th>\n",
       "      <td>0-0</td>\n",
       "      <td>Rudy Quan</td>\n",
       "      <td>0-0</td>\n",
       "    </tr>\n",
       "    <tr>\n",
       "      <th>1</th>\n",
       "      <td>15-0</td>\n",
       "      <td>Rudy Quan</td>\n",
       "      <td>0-0</td>\n",
       "    </tr>\n",
       "    <tr>\n",
       "      <th>2</th>\n",
       "      <td>15-15</td>\n",
       "      <td>Rudy Quan</td>\n",
       "      <td>0-0</td>\n",
       "    </tr>\n",
       "    <tr>\n",
       "      <th>3</th>\n",
       "      <td>30-15</td>\n",
       "      <td>Rudy Quan</td>\n",
       "      <td>0-0</td>\n",
       "    </tr>\n",
       "    <tr>\n",
       "      <th>4</th>\n",
       "      <td>30-30</td>\n",
       "      <td>Rudy Quan</td>\n",
       "      <td>0-0</td>\n",
       "    </tr>\n",
       "    <tr>\n",
       "      <th>...</th>\n",
       "      <td>...</td>\n",
       "      <td>...</td>\n",
       "      <td>...</td>\n",
       "    </tr>\n",
       "    <tr>\n",
       "      <th>75</th>\n",
       "      <td>0-15</td>\n",
       "      <td>Rudy Quan</td>\n",
       "      <td>0-0</td>\n",
       "    </tr>\n",
       "    <tr>\n",
       "      <th>76</th>\n",
       "      <td>0-30</td>\n",
       "      <td>Rudy Quan</td>\n",
       "      <td>0-0</td>\n",
       "    </tr>\n",
       "    <tr>\n",
       "      <th>77</th>\n",
       "      <td>15-30</td>\n",
       "      <td>Rudy Quan</td>\n",
       "      <td>0-0</td>\n",
       "    </tr>\n",
       "    <tr>\n",
       "      <th>78</th>\n",
       "      <td>15-40</td>\n",
       "      <td>Rudy Quan</td>\n",
       "      <td>0-0</td>\n",
       "    </tr>\n",
       "    <tr>\n",
       "      <th>79</th>\n",
       "      <td>30-40</td>\n",
       "      <td>Rudy Quan</td>\n",
       "      <td>0-0</td>\n",
       "    </tr>\n",
       "  </tbody>\n",
       "</table>\n",
       "<p>80 rows × 3 columns</p>\n",
       "</div>"
      ],
      "text/plain": [
       "   point_score server_name game_score\n",
       "0          0-0   Rudy Quan        0-0\n",
       "1         15-0   Rudy Quan        0-0\n",
       "2        15-15   Rudy Quan        0-0\n",
       "3        30-15   Rudy Quan        0-0\n",
       "4        30-30   Rudy Quan        0-0\n",
       "..         ...         ...        ...\n",
       "75        0-15   Rudy Quan        0-0\n",
       "76        0-30   Rudy Quan        0-0\n",
       "77       15-30   Rudy Quan        0-0\n",
       "78       15-40   Rudy Quan        0-0\n",
       "79       30-40   Rudy Quan        0-0\n",
       "\n",
       "[80 rows x 3 columns]"
      ]
     },
     "execution_count": 153,
     "metadata": {},
     "output_type": "execute_result"
    }
   ],
   "source": [
    "df"
   ]
  },
  {
   "cell_type": "code",
   "execution_count": 154,
   "id": "e5eaabf8",
   "metadata": {},
   "outputs": [],
   "source": [
    "set_2 = soup.find_all('table', class_='table_stats_match')[2].find_all('tr', class_=None)"
   ]
  },
  {
   "cell_type": "code",
   "execution_count": 155,
   "id": "959c5050",
   "metadata": {},
   "outputs": [
    {
     "data": {
      "text/plain": [
       "[<tr><td class=\"mp_serve\" width=\"40%\"></td><td class=\"mp_info_txt\" width=\"18%\">0-0</td><td class=\"mp_serve\" width=\"40%\">Rudy Quan <img alt=\"Rudy Quan serve\" height=\"8\" src=\"https://www.tennislive.net/styles/images/tennis_ball.gif\" title=\"Rudy Quan serve\" width=\"8\"/></td></tr>,\n",
       " <tr><td class=\"mp_serve\" width=\"40%\">Yuta Shimizu <img alt=\"Yuta Shimizu serve\" height=\"8\" src=\"https://www.tennislive.net/styles/images/tennis_ball.gif\" title=\"Yuta Shimizu serve\" width=\"8\"/></td><td class=\"mp_info_txt\" width=\"18%\">1-0</td><td class=\"mp_serve\" width=\"40%\"></td></tr>,\n",
       " <tr><td class=\"mp_15\" colspan=\"3\" width=\"99%\">0-0, 15-0, 30-15, 30-30, 30-40<span title=\"Break point\">[BP]</span>, 40-A<span title=\"Break point\">[BP]</span></td></tr>,\n",
       " <tr><td class=\"mp_serve\" width=\"40%\"></td><td class=\"mp_info_txt\" width=\"18%\">1-1</td><td class=\"mp_serve\" width=\"40%\">Rudy Quan <img alt=\"Rudy Quan serve\" height=\"8\" src=\"https://www.tennislive.net/styles/images/tennis_ball.gif\" title=\"Rudy Quan serve\" width=\"8\"/></td></tr>,\n",
       " <tr><td class=\"mp_15\" colspan=\"3\" width=\"99%\">0-0, 0-15, 0-30, 15-30, 30-30, 40-30<span title=\"Break point\">[BP]</span>, 40-40, A-40<span title=\"Break point\">[BP]</span>, 40-40, 40-A, 40-40, A-40<span title=\"Break point\">[BP]</span>, 40-40, 40-A</td></tr>,\n",
       " <tr><td class=\"mp_serve\" width=\"40%\">Yuta Shimizu <img alt=\"Yuta Shimizu serve\" height=\"8\" src=\"https://www.tennislive.net/styles/images/tennis_ball.gif\" title=\"Yuta Shimizu serve\" width=\"8\"/></td><td class=\"mp_info_txt\" width=\"18%\">1-2</td><td class=\"mp_serve\" width=\"40%\"></td></tr>,\n",
       " <tr><td class=\"mp_15\" colspan=\"3\" width=\"99%\">0-0, 0-15, 0-30, 15-30, 30-30, 30-40<span title=\"Break point\">[BP]</span></td></tr>,\n",
       " <tr><td class=\"mp_serve\" width=\"40%\"></td><td class=\"mp_info_txt\" width=\"18%\">1-3</td><td class=\"mp_serve\" width=\"40%\">Rudy Quan <img alt=\"Rudy Quan serve\" height=\"8\" src=\"https://www.tennislive.net/styles/images/tennis_ball.gif\" title=\"Rudy Quan serve\" width=\"8\"/></td></tr>,\n",
       " <tr><td class=\"mp_15\" colspan=\"3\" width=\"99%\">0-0, 15-0, 30-0, 40-0<span title=\"Break point\">[BP]</span></td></tr>,\n",
       " <tr><td class=\"mp_serve\" width=\"40%\">Yuta Shimizu <img alt=\"Yuta Shimizu serve\" height=\"8\" src=\"https://www.tennislive.net/styles/images/tennis_ball.gif\" title=\"Yuta Shimizu serve\" width=\"8\"/></td><td class=\"mp_info_txt\" width=\"18%\">2-3</td><td class=\"mp_serve\" width=\"40%\"></td></tr>,\n",
       " <tr><td class=\"mp_15\" colspan=\"3\" width=\"99%\">0-0, 0-15, 15-15, 30-15, 40-15, 40-30</td></tr>,\n",
       " <tr><td class=\"mp_serve\" width=\"40%\"></td><td class=\"mp_info_txt\" width=\"18%\">3-3</td><td class=\"mp_serve\" width=\"40%\">Rudy Quan <img alt=\"Rudy Quan serve\" height=\"8\" src=\"https://www.tennislive.net/styles/images/tennis_ball.gif\" title=\"Rudy Quan serve\" width=\"8\"/></td></tr>,\n",
       " <tr><td class=\"mp_15\" colspan=\"3\" width=\"99%\">0-0, 15-0, 30-0, 15-30, 30-30, 40-30<span title=\"Break point\">[BP]</span></td></tr>,\n",
       " <tr><td class=\"mp_serve\" width=\"40%\">Yuta Shimizu <img alt=\"Yuta Shimizu serve\" height=\"8\" src=\"https://www.tennislive.net/styles/images/tennis_ball.gif\" title=\"Yuta Shimizu serve\" width=\"8\"/></td><td class=\"mp_info_txt\" width=\"18%\">4-3</td><td class=\"mp_serve\" width=\"40%\"></td></tr>,\n",
       " <tr><td class=\"mp_15\" colspan=\"3\" width=\"99%\">0-0, 15-0, 15-15, 30-15, 40-15</td></tr>,\n",
       " <tr><td class=\"mp_serve\" width=\"40%\"></td><td class=\"mp_info_txt\" width=\"18%\">5-3</td><td class=\"mp_serve\" width=\"40%\">Rudy Quan <img alt=\"Rudy Quan serve\" height=\"8\" src=\"https://www.tennislive.net/styles/images/tennis_ball.gif\" title=\"Rudy Quan serve\" width=\"8\"/></td></tr>,\n",
       " <tr><td class=\"mp_15\" colspan=\"3\" width=\"99%\">0-0, 15-0, 30-0, 40-0<span title=\"Break point\">[BP]</span>, 40-15<span title=\"Break point\">[BP]</span>, 40-30<span title=\"Break point\">[BP]</span></td></tr>]"
      ]
     },
     "execution_count": 155,
     "metadata": {},
     "output_type": "execute_result"
    }
   ],
   "source": [
    "set_2"
   ]
  },
  {
   "cell_type": "code",
   "execution_count": 156,
   "id": "a4151e75",
   "metadata": {},
   "outputs": [
    {
     "data": {
      "text/plain": [
       "[<table class=\"table_stats_match\">\n",
       " <tr class=\"tour_head\"><td width=\"38%\"></td><td align=\"center\" width=\"30%\"><a href=\"https://www.tennislive.net/atp/yuta-shimizu/\" title=\"Yuta Shimizu\">Yuta Shimizu</a></td><td align=\"center\" width=\"30%\"><a href=\"https://www.tennislive.net/atp/rudy-quan/\" title=\"Rudy Quan\">Rudy Quan</a></td></tr><tr><td class=\"info_txt\" width=\"38%\">1st SERVE %</td><td align=\"center\" width=\"30%\">37/55 (67%)</td><td align=\"center\" width=\"30%\">64/80 (80%)</td></tr><tr><td class=\"info_txt\" width=\"38%\">1st SERVE POINTS WON</td><td align=\"center\" width=\"30%\">21/37 (57%)</td><td align=\"center\" width=\"30%\">29/64 (45%)</td></tr><tr><td class=\"info_txt\" width=\"38%\">2nd SERVE POINTS WON</td><td align=\"center\" width=\"30%\">9/18 (50%)</td><td align=\"center\" width=\"30%\">7/16 (44%)</td></tr><tr><td class=\"info_txt\" width=\"38%\">BREAK POINTS WON</td><td align=\"center\" width=\"30%\">7/16 (44%)</td><td align=\"center\" width=\"30%\">4/7 (57%)</td></tr><tr><td class=\"info_txt\" width=\"38%\">TOTAL RETURN POINTS WON</td><td align=\"center\" width=\"30%\">44/80 (55%)</td><td align=\"center\" width=\"30%\">25/55 (45%)</td></tr><tr><td class=\"info_txt\" width=\"38%\">TOTAL POINTS WON</td><td align=\"center\" width=\"30%\">74/135 (55%)</td><td align=\"center\" width=\"30%\">61/135 (45%)</td></tr><tr><td class=\"info_txt\" width=\"38%\">DOUBLE FAULTS</td><td align=\"center\" width=\"30%\">1</td><td align=\"center\" width=\"30%\">2</td></tr><tr><td class=\"info_txt\" width=\"38%\">ACES</td><td align=\"center\" width=\"30%\">4</td><td align=\"center\" width=\"30%\">0</td></tr> </table>,\n",
       " <table class=\"table_stats_match\"><tr class=\"mp_tour_head\"><td colspan=\"3\" width=\"100%\">1</td></tr><tr><td class=\"mp_serve\" width=\"40%\"></td><td class=\"mp_info_txt\" width=\"18%\">0-0</td><td class=\"mp_serve\" width=\"40%\">Rudy Quan <img alt=\"Rudy Quan serve\" height=\"8\" src=\"https://www.tennislive.net/styles/images/tennis_ball.gif\" title=\"Rudy Quan serve\" width=\"8\"/></td></tr><tr><td class=\"mp_15\" colspan=\"3\" width=\"99%\">0-0, 0-15, 15-15, 15-30, 30-30, 30-40, 40-40, A-40<span title=\"Break point\">[BP]</span>, 40-40, 40-A, 40-40, 40-A, 40-40, 40-A, 40-40, 40-A, 40-40, 40-A, 40-40, 40-A</td></tr><tr><td class=\"mp_serve\" width=\"40%\">Yuta Shimizu <img alt=\"Yuta Shimizu serve\" height=\"8\" src=\"https://www.tennislive.net/styles/images/tennis_ball.gif\" title=\"Yuta Shimizu serve\" width=\"8\"/></td><td class=\"mp_info_txt\" width=\"18%\">0-1</td><td class=\"mp_serve\" width=\"40%\"></td></tr><tr><td class=\"mp_15\" colspan=\"3\" width=\"99%\">0-0, 0-15, 0-30, 15-30, 15-40<span title=\"Break point\">[BP]</span></td></tr><tr><td class=\"mp_serve\" width=\"40%\"></td><td class=\"mp_info_txt\" width=\"18%\">0-2</td><td class=\"mp_serve\" width=\"40%\">Rudy Quan <img alt=\"Rudy Quan serve\" height=\"8\" src=\"https://www.tennislive.net/styles/images/tennis_ball.gif\" title=\"Rudy Quan serve\" width=\"8\"/></td></tr><tr><td class=\"mp_15\" colspan=\"3\" width=\"99%\">0-0, 0-15, 0-30, 15-30, 30-30, 40-30<span title=\"Break point\">[BP]</span></td></tr><tr><td class=\"mp_serve\" width=\"40%\">Yuta Shimizu <img alt=\"Yuta Shimizu serve\" height=\"8\" src=\"https://www.tennislive.net/styles/images/tennis_ball.gif\" title=\"Yuta Shimizu serve\" width=\"8\"/></td><td class=\"mp_info_txt\" width=\"18%\">1-2</td><td class=\"mp_serve\" width=\"40%\"></td></tr><tr><td class=\"mp_15\" colspan=\"3\" width=\"99%\">0-0, 15-0, 30-0, 30-15, 40-15</td></tr><tr><td class=\"mp_serve\" width=\"40%\"></td><td class=\"mp_info_txt\" width=\"18%\">2-2</td><td class=\"mp_serve\" width=\"40%\">Rudy Quan <img alt=\"Rudy Quan serve\" height=\"8\" src=\"https://www.tennislive.net/styles/images/tennis_ball.gif\" title=\"Rudy Quan serve\" width=\"8\"/></td></tr><tr><td class=\"mp_15\" colspan=\"3\" width=\"99%\">0-0, 15-0, 15-15, 15-30, 30-30, 40-30<span title=\"Break point\">[BP]</span>, 40-40, A-40<span title=\"Break point\">[BP]</span></td></tr><tr><td class=\"mp_serve\" width=\"40%\">Yuta Shimizu <img alt=\"Yuta Shimizu serve\" height=\"8\" src=\"https://www.tennislive.net/styles/images/tennis_ball.gif\" title=\"Yuta Shimizu serve\" width=\"8\"/></td><td class=\"mp_info_txt\" width=\"18%\">3-2</td><td class=\"mp_serve\" width=\"40%\"></td></tr><tr><td class=\"mp_15\" colspan=\"3\" width=\"99%\">0-0, 15-0, 30-0, 40-0</td></tr><tr><td class=\"mp_serve\" width=\"40%\"></td><td class=\"mp_info_txt\" width=\"18%\">4-2</td><td class=\"mp_serve\" width=\"40%\">Rudy Quan <img alt=\"Rudy Quan serve\" height=\"8\" src=\"https://www.tennislive.net/styles/images/tennis_ball.gif\" title=\"Rudy Quan serve\" width=\"8\"/></td></tr><tr><td class=\"mp_15\" colspan=\"3\" width=\"99%\">0-0, 0-15, 0-30, 0-40</td></tr><tr><td class=\"mp_serve\" width=\"40%\">Yuta Shimizu <img alt=\"Yuta Shimizu serve\" height=\"8\" src=\"https://www.tennislive.net/styles/images/tennis_ball.gif\" title=\"Yuta Shimizu serve\" width=\"8\"/></td><td class=\"mp_info_txt\" width=\"18%\">4-3</td><td class=\"mp_serve\" width=\"40%\"></td></tr><tr><td class=\"mp_15\" colspan=\"3\" width=\"99%\">0-0, 15-0, 15-15, 15-30, 30-30, 30-40<span title=\"Break point\">[BP]</span></td></tr><tr><td class=\"mp_serve\" width=\"40%\"></td><td class=\"mp_info_txt\" width=\"18%\">4-4</td><td class=\"mp_serve\" width=\"40%\">Rudy Quan <img alt=\"Rudy Quan serve\" height=\"8\" src=\"https://www.tennislive.net/styles/images/tennis_ball.gif\" title=\"Rudy Quan serve\" width=\"8\"/></td></tr><tr><td class=\"mp_15\" colspan=\"3\" width=\"99%\">0-0, 0-15, 15-15, 30-15, 40-15<span title=\"Break point\">[BP]</span>, 40-30<span title=\"Break point\">[BP]</span></td></tr><tr><td class=\"mp_serve\" width=\"40%\">Yuta Shimizu <img alt=\"Yuta Shimizu serve\" height=\"8\" src=\"https://www.tennislive.net/styles/images/tennis_ball.gif\" title=\"Yuta Shimizu serve\" width=\"8\"/></td><td class=\"mp_info_txt\" width=\"18%\">5-4</td><td class=\"mp_serve\" width=\"40%\"></td></tr><tr><td class=\"mp_15\" colspan=\"3\" width=\"99%\">0-0, 0-15, 15-15, 30-15, 30-30, 30-40<span title=\"Break point\">[BP]</span>, 40-40, 40-A<span title=\"Break point\">[BP]</span>, 40-40, A-40</td></tr><tr><td class=\"mp_serve\" width=\"40%\"></td><td class=\"mp_info_txt\" width=\"18%\">6-4</td><td class=\"mp_serve\" width=\"40%\">Rudy Quan <img alt=\"Rudy Quan serve\" height=\"8\" src=\"https://www.tennislive.net/styles/images/tennis_ball.gif\" title=\"Rudy Quan serve\" width=\"8\"/></td></tr><tr><td class=\"mp_15\" colspan=\"3\" width=\"99%\">0-0, 15-0, 30-0, 30-15, 40-15<span title=\"Break point\">[BP]</span>, 40-30<span title=\"Break point\">[BP]</span></td></tr><tr class=\"result\"><td class=\"mp_serve\" width=\"40%\"></td><td class=\"mp_info_txt\" width=\"18%\">6-4</td><td class=\"mp_serve\" width=\"40%\"></td></tr></table>,\n",
       " <table class=\"table_stats_match\"><tr class=\"mp_tour_head\"><td colspan=\"3\" width=\"100%\">2</td></tr><tr><td class=\"mp_serve\" width=\"40%\"></td><td class=\"mp_info_txt\" width=\"18%\">0-0</td><td class=\"mp_serve\" width=\"40%\">Rudy Quan <img alt=\"Rudy Quan serve\" height=\"8\" src=\"https://www.tennislive.net/styles/images/tennis_ball.gif\" title=\"Rudy Quan serve\" width=\"8\"/></td></tr><tr><td class=\"mp_serve\" width=\"40%\">Yuta Shimizu <img alt=\"Yuta Shimizu serve\" height=\"8\" src=\"https://www.tennislive.net/styles/images/tennis_ball.gif\" title=\"Yuta Shimizu serve\" width=\"8\"/></td><td class=\"mp_info_txt\" width=\"18%\">1-0</td><td class=\"mp_serve\" width=\"40%\"></td></tr><tr><td class=\"mp_15\" colspan=\"3\" width=\"99%\">0-0, 15-0, 30-15, 30-30, 30-40<span title=\"Break point\">[BP]</span>, 40-A<span title=\"Break point\">[BP]</span></td></tr><tr><td class=\"mp_serve\" width=\"40%\"></td><td class=\"mp_info_txt\" width=\"18%\">1-1</td><td class=\"mp_serve\" width=\"40%\">Rudy Quan <img alt=\"Rudy Quan serve\" height=\"8\" src=\"https://www.tennislive.net/styles/images/tennis_ball.gif\" title=\"Rudy Quan serve\" width=\"8\"/></td></tr><tr><td class=\"mp_15\" colspan=\"3\" width=\"99%\">0-0, 0-15, 0-30, 15-30, 30-30, 40-30<span title=\"Break point\">[BP]</span>, 40-40, A-40<span title=\"Break point\">[BP]</span>, 40-40, 40-A, 40-40, A-40<span title=\"Break point\">[BP]</span>, 40-40, 40-A</td></tr><tr><td class=\"mp_serve\" width=\"40%\">Yuta Shimizu <img alt=\"Yuta Shimizu serve\" height=\"8\" src=\"https://www.tennislive.net/styles/images/tennis_ball.gif\" title=\"Yuta Shimizu serve\" width=\"8\"/></td><td class=\"mp_info_txt\" width=\"18%\">1-2</td><td class=\"mp_serve\" width=\"40%\"></td></tr><tr><td class=\"mp_15\" colspan=\"3\" width=\"99%\">0-0, 0-15, 0-30, 15-30, 30-30, 30-40<span title=\"Break point\">[BP]</span></td></tr><tr><td class=\"mp_serve\" width=\"40%\"></td><td class=\"mp_info_txt\" width=\"18%\">1-3</td><td class=\"mp_serve\" width=\"40%\">Rudy Quan <img alt=\"Rudy Quan serve\" height=\"8\" src=\"https://www.tennislive.net/styles/images/tennis_ball.gif\" title=\"Rudy Quan serve\" width=\"8\"/></td></tr><tr><td class=\"mp_15\" colspan=\"3\" width=\"99%\">0-0, 15-0, 30-0, 40-0<span title=\"Break point\">[BP]</span></td></tr><tr><td class=\"mp_serve\" width=\"40%\">Yuta Shimizu <img alt=\"Yuta Shimizu serve\" height=\"8\" src=\"https://www.tennislive.net/styles/images/tennis_ball.gif\" title=\"Yuta Shimizu serve\" width=\"8\"/></td><td class=\"mp_info_txt\" width=\"18%\">2-3</td><td class=\"mp_serve\" width=\"40%\"></td></tr><tr><td class=\"mp_15\" colspan=\"3\" width=\"99%\">0-0, 0-15, 15-15, 30-15, 40-15, 40-30</td></tr><tr><td class=\"mp_serve\" width=\"40%\"></td><td class=\"mp_info_txt\" width=\"18%\">3-3</td><td class=\"mp_serve\" width=\"40%\">Rudy Quan <img alt=\"Rudy Quan serve\" height=\"8\" src=\"https://www.tennislive.net/styles/images/tennis_ball.gif\" title=\"Rudy Quan serve\" width=\"8\"/></td></tr><tr><td class=\"mp_15\" colspan=\"3\" width=\"99%\">0-0, 15-0, 30-0, 15-30, 30-30, 40-30<span title=\"Break point\">[BP]</span></td></tr><tr><td class=\"mp_serve\" width=\"40%\">Yuta Shimizu <img alt=\"Yuta Shimizu serve\" height=\"8\" src=\"https://www.tennislive.net/styles/images/tennis_ball.gif\" title=\"Yuta Shimizu serve\" width=\"8\"/></td><td class=\"mp_info_txt\" width=\"18%\">4-3</td><td class=\"mp_serve\" width=\"40%\"></td></tr><tr><td class=\"mp_15\" colspan=\"3\" width=\"99%\">0-0, 15-0, 15-15, 30-15, 40-15</td></tr><tr><td class=\"mp_serve\" width=\"40%\"></td><td class=\"mp_info_txt\" width=\"18%\">5-3</td><td class=\"mp_serve\" width=\"40%\">Rudy Quan <img alt=\"Rudy Quan serve\" height=\"8\" src=\"https://www.tennislive.net/styles/images/tennis_ball.gif\" title=\"Rudy Quan serve\" width=\"8\"/></td></tr><tr><td class=\"mp_15\" colspan=\"3\" width=\"99%\">0-0, 15-0, 30-0, 40-0<span title=\"Break point\">[BP]</span>, 40-15<span title=\"Break point\">[BP]</span>, 40-30<span title=\"Break point\">[BP]</span></td></tr><tr class=\"result\"><td class=\"mp_serve\" width=\"40%\"></td><td class=\"mp_info_txt\" width=\"18%\">6-3  </td><td class=\"mp_serve\" width=\"40%\"></td></tr></table>]"
      ]
     },
     "execution_count": 156,
     "metadata": {},
     "output_type": "execute_result"
    }
   ],
   "source": [
    "content = soup.find_all('table', class_='table_stats_match')\n",
    "content"
   ]
  },
  {
   "cell_type": "code",
   "execution_count": 157,
   "id": "0472656a",
   "metadata": {},
   "outputs": [
    {
     "data": {
      "text/plain": [
       "'Rudy Quan'"
      ]
     },
     "execution_count": 157,
     "metadata": {},
     "output_type": "execute_result"
    }
   ],
   "source": [
    "content = soup.find_all('table', class_='table_stats_match')\n",
    "\n",
    "current_set = content[1].find_all('tr', class_=None)\n",
    "\n",
    "current_set\n",
    "\n",
    "# len(content)\n",
    "\n",
    "server_name = ' '.join(current_set[0].find('img')['alt'].split()[0:2])\n",
    "server_name\n",
    "\n"
   ]
  },
  {
   "cell_type": "code",
   "execution_count": 158,
   "id": "0033386c",
   "metadata": {},
   "outputs": [
    {
     "data": {
      "text/plain": [
       "[<table class=\"table_stats_match\">\n",
       " <tr class=\"tour_head\"><td width=\"38%\"></td><td align=\"center\" width=\"30%\"><a href=\"https://www.tennislive.net/atp/yuta-shimizu/\" title=\"Yuta Shimizu\">Yuta Shimizu</a></td><td align=\"center\" width=\"30%\"><a href=\"https://www.tennislive.net/atp/rudy-quan/\" title=\"Rudy Quan\">Rudy Quan</a></td></tr><tr><td class=\"info_txt\" width=\"38%\">1st SERVE %</td><td align=\"center\" width=\"30%\">37/55 (67%)</td><td align=\"center\" width=\"30%\">64/80 (80%)</td></tr><tr><td class=\"info_txt\" width=\"38%\">1st SERVE POINTS WON</td><td align=\"center\" width=\"30%\">21/37 (57%)</td><td align=\"center\" width=\"30%\">29/64 (45%)</td></tr><tr><td class=\"info_txt\" width=\"38%\">2nd SERVE POINTS WON</td><td align=\"center\" width=\"30%\">9/18 (50%)</td><td align=\"center\" width=\"30%\">7/16 (44%)</td></tr><tr><td class=\"info_txt\" width=\"38%\">BREAK POINTS WON</td><td align=\"center\" width=\"30%\">7/16 (44%)</td><td align=\"center\" width=\"30%\">4/7 (57%)</td></tr><tr><td class=\"info_txt\" width=\"38%\">TOTAL RETURN POINTS WON</td><td align=\"center\" width=\"30%\">44/80 (55%)</td><td align=\"center\" width=\"30%\">25/55 (45%)</td></tr><tr><td class=\"info_txt\" width=\"38%\">TOTAL POINTS WON</td><td align=\"center\" width=\"30%\">74/135 (55%)</td><td align=\"center\" width=\"30%\">61/135 (45%)</td></tr><tr><td class=\"info_txt\" width=\"38%\">DOUBLE FAULTS</td><td align=\"center\" width=\"30%\">1</td><td align=\"center\" width=\"30%\">2</td></tr><tr><td class=\"info_txt\" width=\"38%\">ACES</td><td align=\"center\" width=\"30%\">4</td><td align=\"center\" width=\"30%\">0</td></tr> </table>,\n",
       " <table class=\"table_stats_match\"><tr class=\"mp_tour_head\"><td colspan=\"3\" width=\"100%\">1</td></tr><tr><td class=\"mp_serve\" width=\"40%\"></td><td class=\"mp_info_txt\" width=\"18%\">0-0</td><td class=\"mp_serve\" width=\"40%\">Rudy Quan <img alt=\"Rudy Quan serve\" height=\"8\" src=\"https://www.tennislive.net/styles/images/tennis_ball.gif\" title=\"Rudy Quan serve\" width=\"8\"/></td></tr><tr><td class=\"mp_15\" colspan=\"3\" width=\"99%\">0-0, 0-15, 15-15, 15-30, 30-30, 30-40, 40-40, A-40<span title=\"Break point\">[BP]</span>, 40-40, 40-A, 40-40, 40-A, 40-40, 40-A, 40-40, 40-A, 40-40, 40-A, 40-40, 40-A</td></tr><tr><td class=\"mp_serve\" width=\"40%\">Yuta Shimizu <img alt=\"Yuta Shimizu serve\" height=\"8\" src=\"https://www.tennislive.net/styles/images/tennis_ball.gif\" title=\"Yuta Shimizu serve\" width=\"8\"/></td><td class=\"mp_info_txt\" width=\"18%\">0-1</td><td class=\"mp_serve\" width=\"40%\"></td></tr><tr><td class=\"mp_15\" colspan=\"3\" width=\"99%\">0-0, 0-15, 0-30, 15-30, 15-40<span title=\"Break point\">[BP]</span></td></tr><tr><td class=\"mp_serve\" width=\"40%\"></td><td class=\"mp_info_txt\" width=\"18%\">0-2</td><td class=\"mp_serve\" width=\"40%\">Rudy Quan <img alt=\"Rudy Quan serve\" height=\"8\" src=\"https://www.tennislive.net/styles/images/tennis_ball.gif\" title=\"Rudy Quan serve\" width=\"8\"/></td></tr><tr><td class=\"mp_15\" colspan=\"3\" width=\"99%\">0-0, 0-15, 0-30, 15-30, 30-30, 40-30<span title=\"Break point\">[BP]</span></td></tr><tr><td class=\"mp_serve\" width=\"40%\">Yuta Shimizu <img alt=\"Yuta Shimizu serve\" height=\"8\" src=\"https://www.tennislive.net/styles/images/tennis_ball.gif\" title=\"Yuta Shimizu serve\" width=\"8\"/></td><td class=\"mp_info_txt\" width=\"18%\">1-2</td><td class=\"mp_serve\" width=\"40%\"></td></tr><tr><td class=\"mp_15\" colspan=\"3\" width=\"99%\">0-0, 15-0, 30-0, 30-15, 40-15</td></tr><tr><td class=\"mp_serve\" width=\"40%\"></td><td class=\"mp_info_txt\" width=\"18%\">2-2</td><td class=\"mp_serve\" width=\"40%\">Rudy Quan <img alt=\"Rudy Quan serve\" height=\"8\" src=\"https://www.tennislive.net/styles/images/tennis_ball.gif\" title=\"Rudy Quan serve\" width=\"8\"/></td></tr><tr><td class=\"mp_15\" colspan=\"3\" width=\"99%\">0-0, 15-0, 15-15, 15-30, 30-30, 40-30<span title=\"Break point\">[BP]</span>, 40-40, A-40<span title=\"Break point\">[BP]</span></td></tr><tr><td class=\"mp_serve\" width=\"40%\">Yuta Shimizu <img alt=\"Yuta Shimizu serve\" height=\"8\" src=\"https://www.tennislive.net/styles/images/tennis_ball.gif\" title=\"Yuta Shimizu serve\" width=\"8\"/></td><td class=\"mp_info_txt\" width=\"18%\">3-2</td><td class=\"mp_serve\" width=\"40%\"></td></tr><tr><td class=\"mp_15\" colspan=\"3\" width=\"99%\">0-0, 15-0, 30-0, 40-0</td></tr><tr><td class=\"mp_serve\" width=\"40%\"></td><td class=\"mp_info_txt\" width=\"18%\">4-2</td><td class=\"mp_serve\" width=\"40%\">Rudy Quan <img alt=\"Rudy Quan serve\" height=\"8\" src=\"https://www.tennislive.net/styles/images/tennis_ball.gif\" title=\"Rudy Quan serve\" width=\"8\"/></td></tr><tr><td class=\"mp_15\" colspan=\"3\" width=\"99%\">0-0, 0-15, 0-30, 0-40</td></tr><tr><td class=\"mp_serve\" width=\"40%\">Yuta Shimizu <img alt=\"Yuta Shimizu serve\" height=\"8\" src=\"https://www.tennislive.net/styles/images/tennis_ball.gif\" title=\"Yuta Shimizu serve\" width=\"8\"/></td><td class=\"mp_info_txt\" width=\"18%\">4-3</td><td class=\"mp_serve\" width=\"40%\"></td></tr><tr><td class=\"mp_15\" colspan=\"3\" width=\"99%\">0-0, 15-0, 15-15, 15-30, 30-30, 30-40<span title=\"Break point\">[BP]</span></td></tr><tr><td class=\"mp_serve\" width=\"40%\"></td><td class=\"mp_info_txt\" width=\"18%\">4-4</td><td class=\"mp_serve\" width=\"40%\">Rudy Quan <img alt=\"Rudy Quan serve\" height=\"8\" src=\"https://www.tennislive.net/styles/images/tennis_ball.gif\" title=\"Rudy Quan serve\" width=\"8\"/></td></tr><tr><td class=\"mp_15\" colspan=\"3\" width=\"99%\">0-0, 0-15, 15-15, 30-15, 40-15<span title=\"Break point\">[BP]</span>, 40-30<span title=\"Break point\">[BP]</span></td></tr><tr><td class=\"mp_serve\" width=\"40%\">Yuta Shimizu <img alt=\"Yuta Shimizu serve\" height=\"8\" src=\"https://www.tennislive.net/styles/images/tennis_ball.gif\" title=\"Yuta Shimizu serve\" width=\"8\"/></td><td class=\"mp_info_txt\" width=\"18%\">5-4</td><td class=\"mp_serve\" width=\"40%\"></td></tr><tr><td class=\"mp_15\" colspan=\"3\" width=\"99%\">0-0, 0-15, 15-15, 30-15, 30-30, 30-40<span title=\"Break point\">[BP]</span>, 40-40, 40-A<span title=\"Break point\">[BP]</span>, 40-40, A-40</td></tr><tr><td class=\"mp_serve\" width=\"40%\"></td><td class=\"mp_info_txt\" width=\"18%\">6-4</td><td class=\"mp_serve\" width=\"40%\">Rudy Quan <img alt=\"Rudy Quan serve\" height=\"8\" src=\"https://www.tennislive.net/styles/images/tennis_ball.gif\" title=\"Rudy Quan serve\" width=\"8\"/></td></tr><tr><td class=\"mp_15\" colspan=\"3\" width=\"99%\">0-0, 15-0, 30-0, 30-15, 40-15<span title=\"Break point\">[BP]</span>, 40-30<span title=\"Break point\">[BP]</span></td></tr><tr class=\"result\"><td class=\"mp_serve\" width=\"40%\"></td><td class=\"mp_info_txt\" width=\"18%\">6-4</td><td class=\"mp_serve\" width=\"40%\"></td></tr></table>,\n",
       " <table class=\"table_stats_match\"><tr class=\"mp_tour_head\"><td colspan=\"3\" width=\"100%\">2</td></tr><tr><td class=\"mp_serve\" width=\"40%\"></td><td class=\"mp_info_txt\" width=\"18%\">0-0</td><td class=\"mp_serve\" width=\"40%\">Rudy Quan <img alt=\"Rudy Quan serve\" height=\"8\" src=\"https://www.tennislive.net/styles/images/tennis_ball.gif\" title=\"Rudy Quan serve\" width=\"8\"/></td></tr><tr><td class=\"mp_serve\" width=\"40%\">Yuta Shimizu <img alt=\"Yuta Shimizu serve\" height=\"8\" src=\"https://www.tennislive.net/styles/images/tennis_ball.gif\" title=\"Yuta Shimizu serve\" width=\"8\"/></td><td class=\"mp_info_txt\" width=\"18%\">1-0</td><td class=\"mp_serve\" width=\"40%\"></td></tr><tr><td class=\"mp_15\" colspan=\"3\" width=\"99%\">0-0, 15-0, 30-15, 30-30, 30-40<span title=\"Break point\">[BP]</span>, 40-A<span title=\"Break point\">[BP]</span></td></tr><tr><td class=\"mp_serve\" width=\"40%\"></td><td class=\"mp_info_txt\" width=\"18%\">1-1</td><td class=\"mp_serve\" width=\"40%\">Rudy Quan <img alt=\"Rudy Quan serve\" height=\"8\" src=\"https://www.tennislive.net/styles/images/tennis_ball.gif\" title=\"Rudy Quan serve\" width=\"8\"/></td></tr><tr><td class=\"mp_15\" colspan=\"3\" width=\"99%\">0-0, 0-15, 0-30, 15-30, 30-30, 40-30<span title=\"Break point\">[BP]</span>, 40-40, A-40<span title=\"Break point\">[BP]</span>, 40-40, 40-A, 40-40, A-40<span title=\"Break point\">[BP]</span>, 40-40, 40-A</td></tr><tr><td class=\"mp_serve\" width=\"40%\">Yuta Shimizu <img alt=\"Yuta Shimizu serve\" height=\"8\" src=\"https://www.tennislive.net/styles/images/tennis_ball.gif\" title=\"Yuta Shimizu serve\" width=\"8\"/></td><td class=\"mp_info_txt\" width=\"18%\">1-2</td><td class=\"mp_serve\" width=\"40%\"></td></tr><tr><td class=\"mp_15\" colspan=\"3\" width=\"99%\">0-0, 0-15, 0-30, 15-30, 30-30, 30-40<span title=\"Break point\">[BP]</span></td></tr><tr><td class=\"mp_serve\" width=\"40%\"></td><td class=\"mp_info_txt\" width=\"18%\">1-3</td><td class=\"mp_serve\" width=\"40%\">Rudy Quan <img alt=\"Rudy Quan serve\" height=\"8\" src=\"https://www.tennislive.net/styles/images/tennis_ball.gif\" title=\"Rudy Quan serve\" width=\"8\"/></td></tr><tr><td class=\"mp_15\" colspan=\"3\" width=\"99%\">0-0, 15-0, 30-0, 40-0<span title=\"Break point\">[BP]</span></td></tr><tr><td class=\"mp_serve\" width=\"40%\">Yuta Shimizu <img alt=\"Yuta Shimizu serve\" height=\"8\" src=\"https://www.tennislive.net/styles/images/tennis_ball.gif\" title=\"Yuta Shimizu serve\" width=\"8\"/></td><td class=\"mp_info_txt\" width=\"18%\">2-3</td><td class=\"mp_serve\" width=\"40%\"></td></tr><tr><td class=\"mp_15\" colspan=\"3\" width=\"99%\">0-0, 0-15, 15-15, 30-15, 40-15, 40-30</td></tr><tr><td class=\"mp_serve\" width=\"40%\"></td><td class=\"mp_info_txt\" width=\"18%\">3-3</td><td class=\"mp_serve\" width=\"40%\">Rudy Quan <img alt=\"Rudy Quan serve\" height=\"8\" src=\"https://www.tennislive.net/styles/images/tennis_ball.gif\" title=\"Rudy Quan serve\" width=\"8\"/></td></tr><tr><td class=\"mp_15\" colspan=\"3\" width=\"99%\">0-0, 15-0, 30-0, 15-30, 30-30, 40-30<span title=\"Break point\">[BP]</span></td></tr><tr><td class=\"mp_serve\" width=\"40%\">Yuta Shimizu <img alt=\"Yuta Shimizu serve\" height=\"8\" src=\"https://www.tennislive.net/styles/images/tennis_ball.gif\" title=\"Yuta Shimizu serve\" width=\"8\"/></td><td class=\"mp_info_txt\" width=\"18%\">4-3</td><td class=\"mp_serve\" width=\"40%\"></td></tr><tr><td class=\"mp_15\" colspan=\"3\" width=\"99%\">0-0, 15-0, 15-15, 30-15, 40-15</td></tr><tr><td class=\"mp_serve\" width=\"40%\"></td><td class=\"mp_info_txt\" width=\"18%\">5-3</td><td class=\"mp_serve\" width=\"40%\">Rudy Quan <img alt=\"Rudy Quan serve\" height=\"8\" src=\"https://www.tennislive.net/styles/images/tennis_ball.gif\" title=\"Rudy Quan serve\" width=\"8\"/></td></tr><tr><td class=\"mp_15\" colspan=\"3\" width=\"99%\">0-0, 15-0, 30-0, 40-0<span title=\"Break point\">[BP]</span>, 40-15<span title=\"Break point\">[BP]</span>, 40-30<span title=\"Break point\">[BP]</span></td></tr><tr class=\"result\"><td class=\"mp_serve\" width=\"40%\"></td><td class=\"mp_info_txt\" width=\"18%\">6-3  </td><td class=\"mp_serve\" width=\"40%\"></td></tr></table>]"
      ]
     },
     "execution_count": 158,
     "metadata": {},
     "output_type": "execute_result"
    }
   ],
   "source": [
    "content = soup.find_all('table', class_='table_stats_match')\n",
    "content"
   ]
  },
  {
   "cell_type": "code",
   "execution_count": 159,
   "id": "7f5d696a",
   "metadata": {},
   "outputs": [
    {
     "data": {
      "text/plain": [
       "'Yuta Shimizu'"
      ]
     },
     "execution_count": 159,
     "metadata": {},
     "output_type": "execute_result"
    }
   ],
   "source": [
    "content = soup.find_all('table', class_='table_stats_match')\n",
    "current_set = content[2].find_all('tr', class_=None)\n",
    "\n",
    "server_name = ' '.join(current_set[13].find('img')['alt'].split()[0:2])\n",
    "server_name\n",
    "\n",
    "# len(current_set)"
   ]
  },
  {
   "cell_type": "code",
   "execution_count": null,
   "id": "eb8808b9",
   "metadata": {},
   "outputs": [],
   "source": []
  },
  {
   "cell_type": "code",
   "execution_count": 160,
   "id": "2229c34b",
   "metadata": {},
   "outputs": [
    {
     "name": "stdout",
     "output_type": "stream",
     "text": [
      "None\n"
     ]
    },
    {
     "data": {
      "text/plain": [
       "1"
      ]
     },
     "execution_count": 160,
     "metadata": {},
     "output_type": "execute_result"
    }
   ],
   "source": [
    "content = soup.find_all('table', class_='table_stats_match')\n",
    "current_set = content[2].find_all('tr', class_=None)\n",
    "\n",
    "offset = 0\n",
    "\n",
    "print(current_set[0 + 1].find('td', class_='mp_15'))\n",
    "\n",
    "if not current_set[0 + 1].find('td', class_='mp_15'):\n",
    "    offset = 1\n",
    "    \n",
    "offset"
   ]
  },
  {
   "cell_type": "code",
   "execution_count": 161,
   "id": "50f02347",
   "metadata": {},
   "outputs": [
    {
     "ename": "TypeError",
     "evalue": "'NoneType' object is not subscriptable",
     "output_type": "error",
     "traceback": [
      "\u001b[0;31m---------------------------------------------------------------------------\u001b[0m",
      "\u001b[0;31mTypeError\u001b[0m                                 Traceback (most recent call last)",
      "Cell \u001b[0;32mIn[161], line 23\u001b[0m\n\u001b[1;32m     20\u001b[0m \u001b[38;5;28;01mif\u001b[39;00m \u001b[38;5;129;01mnot\u001b[39;00m current_set[i \u001b[38;5;241m+\u001b[39m \u001b[38;5;241m1\u001b[39m]\u001b[38;5;241m.\u001b[39mfind(\u001b[38;5;124m'\u001b[39m\u001b[38;5;124mtd\u001b[39m\u001b[38;5;124m'\u001b[39m, class_\u001b[38;5;241m=\u001b[39m\u001b[38;5;124m'\u001b[39m\u001b[38;5;124mmp_15\u001b[39m\u001b[38;5;124m'\u001b[39m):\n\u001b[1;32m     21\u001b[0m     i \u001b[38;5;241m=\u001b[39m i \u001b[38;5;241m-\u001b[39m \u001b[38;5;241m1\u001b[39m\n\u001b[0;32m---> 23\u001b[0m server_name \u001b[38;5;241m=\u001b[39m \u001b[38;5;124m'\u001b[39m\u001b[38;5;124m \u001b[39m\u001b[38;5;124m'\u001b[39m\u001b[38;5;241m.\u001b[39mjoin(current_set[i]\u001b[38;5;241m.\u001b[39mfind(\u001b[38;5;124m'\u001b[39m\u001b[38;5;124mimg\u001b[39m\u001b[38;5;124m'\u001b[39m)[\u001b[38;5;124m'\u001b[39m\u001b[38;5;124malt\u001b[39m\u001b[38;5;124m'\u001b[39m]\u001b[38;5;241m.\u001b[39msplit()[\u001b[38;5;241m0\u001b[39m:\u001b[38;5;241m2\u001b[39m])\n\u001b[1;32m     24\u001b[0m game_score \u001b[38;5;241m=\u001b[39m current_set[i]\u001b[38;5;241m.\u001b[39mfind(\u001b[38;5;124m'\u001b[39m\u001b[38;5;124mtd\u001b[39m\u001b[38;5;124m'\u001b[39m, class_\u001b[38;5;241m=\u001b[39m\u001b[38;5;124m'\u001b[39m\u001b[38;5;124mmp_info_txt\u001b[39m\u001b[38;5;124m'\u001b[39m)\u001b[38;5;241m.\u001b[39mtext\u001b[38;5;241m.\u001b[39mstrip()\n\u001b[1;32m     25\u001b[0m points \u001b[38;5;241m=\u001b[39m current_set[i \u001b[38;5;241m+\u001b[39m \u001b[38;5;241m1\u001b[39m]\u001b[38;5;241m.\u001b[39mfind(\u001b[38;5;124m'\u001b[39m\u001b[38;5;124mtd\u001b[39m\u001b[38;5;124m'\u001b[39m)\u001b[38;5;241m.\u001b[39mtext\u001b[38;5;241m.\u001b[39mreplace(\u001b[38;5;124m'\u001b[39m\u001b[38;5;124m[BP]\u001b[39m\u001b[38;5;124m'\u001b[39m, \u001b[38;5;124m'\u001b[39m\u001b[38;5;124m'\u001b[39m)\u001b[38;5;241m.\u001b[39msplit(\u001b[38;5;124m'\u001b[39m\u001b[38;5;124m, \u001b[39m\u001b[38;5;124m'\u001b[39m)\n",
      "\u001b[0;31mTypeError\u001b[0m: 'NoneType' object is not subscriptable"
     ]
    }
   ],
   "source": [
    "\n",
    "\n",
    "# set_1 = soup.find_all('table', class_='table_stats_match')[1].find_all('tr', class_=None)\n",
    "\n",
    "\n",
    "# range(0, len(set_1), 2)\n",
    "\n",
    "content = soup.find_all('table', class_='table_stats_match')\n",
    "\n",
    "server_names = []\n",
    "point_scores = []\n",
    "game_scores = []\n",
    "\n",
    "for j in range(1, len(content)):\n",
    "    \n",
    "    current_set = content[j].find_all('tr', class_=None)\n",
    "    \n",
    "    offset = 0\n",
    "\n",
    "    for i in range(0, len(current_set), 2):\n",
    "        \n",
    "        if not current_set[i + 1].find('td', class_='mp_15'):\n",
    "            i = i - 1\n",
    "        \n",
    "        server_name = ' '.join(current_set[i].find('img')['alt'].split()[0:2])\n",
    "        game_score = current_set[i].find('td', class_='mp_info_txt').text.strip()\n",
    "        points = current_set[i + 1].find('td').text.replace('[BP]', '').split(', ')\n",
    "        \n",
    "        for point in points:\n",
    "            server_names.append(server_name)\n",
    "            point_scores.append(point)\n",
    "            game_scores.append(game_score)\n",
    "\n",
    "\n",
    "df = pd.DataFrame({\n",
    "    'point_score': point_scores,\n",
    "    'server_name': server_names,\n",
    "    'game_score': game_scores\n",
    "    })\n",
    "    \n",
    "df = df.replace(df['game_score'].iloc[-1], '0-0')\n",
    "\n",
    "# Find Player Names\n",
    "table = soup.find('table', class_ = 'table_pmatches')\n",
    "player1 = soup.find_all('td', class_='w130')[0].text.strip()\n",
    "player2 = soup.find_all('td', class_='w130')[1].text.strip()\n",
    "\n",
    "# Flip point_score and game_score if servername == player2\n",
    "df['point_score'] = df.apply(lambda x : '-'.join(x['point_score'].split('-')[::-1]) if x['server_name'] == player2 else x['point_score'], axis=1)\n",
    "df['game_score'] = df.apply(lambda x : '-'.join(x['game_score'].split('-')[::-1]) if x['server_name'] == player2 else x['game_score'], axis=1)\n",
    "\n",
    "df\n"
   ]
  },
  {
   "cell_type": "code",
   "execution_count": null,
   "id": "1da79eee",
   "metadata": {},
   "outputs": [],
   "source": [
    "df"
   ]
  },
  {
   "cell_type": "code",
   "execution_count": null,
   "id": "b4fcd117",
   "metadata": {},
   "outputs": [],
   "source": []
  },
  {
   "cell_type": "markdown",
   "id": "d9bcdedb",
   "metadata": {},
   "source": [
    "# Example Dataframe"
   ]
  },
  {
   "cell_type": "code",
   "execution_count": 22,
   "id": "99f20ed8",
   "metadata": {},
   "outputs": [],
   "source": [
    "import pandas as pd\n",
    "\n",
    "# Define the column names\n",
    "columns = [\n",
    "    \"Date\", \"Match\", \"Duration\", \"Player Name\", \"Total serves\", \"Aces\", \"1st Serve In %\",\n",
    "    \"2nd Serve In %\", \"1st Serve Won %\", \"2nd Serve Won %\", \"Double Faults\", \"1st serve Ad\",\n",
    "    \"1st serve De\", \"1st serve Ad %\", \"1st serve De %\", \"2nd serve Ad %\", \"2nd serve De %\",\n",
    "    \"Double Fault Ad %\", \"Double Fault De %\", \"Average Rally Count\", \"3 Shot Rally Count\",\n",
    "    \"Break Points\", \"Break Points Won\", \"Break Points Won %\", \"Total Points Won on Serve\",\n",
    "    \"Break Points Saved %\", \"Total Groundstrokes\", \"Groundstrokes Won\", \"Total Returns\",\n",
    "    \"Total Returns Won\", \"Volley Count\", \"Volley Winner Count\", \"At Net Count\", \"Total Slices\",\n",
    "    \"Number of Dropshots\", \"Forehand/Backhand Errors (Count)\"\n",
    "]\n",
    "\n",
    "# Create an empty DataFrame with one row\n",
    "df = pd.DataFrame(columns=columns, index=[0])\n",
    "\n"
   ]
  },
  {
   "cell_type": "code",
   "execution_count": 23,
   "id": "cf72856b",
   "metadata": {},
   "outputs": [
    {
     "data": {
      "text/plain": [
       "['Date',\n",
       " 'Match',\n",
       " 'Duration',\n",
       " 'Player Name',\n",
       " 'Total serves',\n",
       " 'Aces',\n",
       " '1st Serve In %',\n",
       " '2nd Serve In %',\n",
       " '1st Serve Won %',\n",
       " '2nd Serve Won %',\n",
       " 'Double Faults',\n",
       " '1st serve Ad',\n",
       " '1st serve De',\n",
       " '1st serve Ad %',\n",
       " '1st serve De %',\n",
       " '2nd serve Ad %',\n",
       " '2nd serve De %',\n",
       " 'Double Fault Ad %',\n",
       " 'Double Fault De %',\n",
       " 'Average Rally Count',\n",
       " '3 Shot Rally Count',\n",
       " 'Break Points',\n",
       " 'Break Points Won',\n",
       " 'Break Points Won %',\n",
       " 'Total Points Won on Serve',\n",
       " 'Break Points Saved %',\n",
       " 'Total Groundstrokes',\n",
       " 'Groundstrokes Won',\n",
       " 'Total Returns',\n",
       " 'Total Returns Won',\n",
       " 'Volley Count',\n",
       " 'Volley Winner Count',\n",
       " 'At Net Count',\n",
       " 'Total Slices',\n",
       " 'Number of Dropshots',\n",
       " 'Forehand/Backhand Errors (Count)']"
      ]
     },
     "execution_count": 23,
     "metadata": {},
     "output_type": "execute_result"
    }
   ],
   "source": [
    "list(df)"
   ]
  },
  {
   "cell_type": "code",
   "execution_count": null,
   "id": "56041501",
   "metadata": {},
   "outputs": [],
   "source": []
  },
  {
   "cell_type": "code",
   "execution_count": null,
   "id": "e57b9c01",
   "metadata": {},
   "outputs": [],
   "source": []
  },
  {
   "cell_type": "code",
   "execution_count": null,
   "id": "eeff26eb",
   "metadata": {},
   "outputs": [],
   "source": []
  }
 ],
 "metadata": {
  "kernelspec": {
   "display_name": "Python 3 (ipykernel)",
   "language": "python",
   "name": "python3"
  },
  "language_info": {
   "codemirror_mode": {
    "name": "ipython",
    "version": 3
   },
   "file_extension": ".py",
   "mimetype": "text/x-python",
   "name": "python",
   "nbconvert_exporter": "python",
   "pygments_lexer": "ipython3",
   "version": "3.11.5"
  }
 },
 "nbformat": 4,
 "nbformat_minor": 5
}
