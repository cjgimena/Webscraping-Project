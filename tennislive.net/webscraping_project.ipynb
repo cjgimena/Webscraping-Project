{
 "cells": [
  {
   "cell_type": "markdown",
   "id": "b497ebc7",
   "metadata": {},
   "source": [
    "# Introduction"
   ]
  },
  {
   "cell_type": "markdown",
   "id": "79eab785",
   "metadata": {},
   "source": [
    "- Webscrape https://www.tennislive.net for pro-level match data\n",
    "- Output two .csv files \n",
    "    - Single row dataframe for summary statistics dashboard\n",
    "    - point by point (Pbp) level csv file for Match Viewer website => to attach timestamps using website tagger"
   ]
  },
  {
   "cell_type": "markdown",
   "id": "5ae231f4",
   "metadata": {},
   "source": [
    "need to write some documentation so\n",
    "\n",
    "1. People reviewing your GitHub can understand what’s it’s doing. (Make a read me file)\n",
    "\n",
    "2. We can use this in our products for tennis consulting"
   ]
  },
  {
   "cell_type": "markdown",
   "id": "accc8e20",
   "metadata": {},
   "source": [
    "# Install Packages"
   ]
  },
  {
   "cell_type": "code",
   "execution_count": 1,
   "id": "e9471797",
   "metadata": {},
   "outputs": [],
   "source": [
    "import requests\n",
    "from bs4 import BeautifulSoup\n",
    "import pandas as pd\n",
    "import numpy as np\n",
    "\n",
    "pd.reset_option('display.max_rows')\n",
    "pd.reset_option('display.max_columns')"
   ]
  },
  {
   "cell_type": "code",
   "execution_count": 2,
   "id": "a196a9f4",
   "metadata": {},
   "outputs": [],
   "source": [
    "page = requests.get('https://www.tennislive.net/atp/match/bernard-tomic-VS-govind-nanda/m25-tulsa-2024/')"
   ]
  },
  {
   "cell_type": "code",
   "execution_count": 3,
   "id": "2940dcd4",
   "metadata": {},
   "outputs": [],
   "source": [
    "soup = BeautifulSoup(page.text, 'html')"
   ]
  },
  {
   "cell_type": "markdown",
   "id": "ede72490",
   "metadata": {},
   "source": [
    "### Check Status Code\n",
    "- 200 = success\n",
    "- 404 = failed"
   ]
  },
  {
   "cell_type": "code",
   "execution_count": null,
   "id": "39eab77b",
   "metadata": {},
   "outputs": [],
   "source": [
    "page.status_code"
   ]
  },
  {
   "cell_type": "markdown",
   "id": "b61152c0",
   "metadata": {},
   "source": [
    "# Single Row For Summary Statistics Dashboard"
   ]
  },
  {
   "cell_type": "markdown",
   "id": "789d297c",
   "metadata": {},
   "source": [
    "### Match Info"
   ]
  },
  {
   "cell_type": "code",
   "execution_count": 5,
   "id": "c8de103f",
   "metadata": {},
   "outputs": [],
   "source": [
    "table = soup.find('table', class_ = 'table_pmatches')\n",
    "\n",
    "date = soup.find('td', class_ = 'w50').text.strip().split(' ')[0]\n",
    "round_info = soup.find_all('td', class_='w50')[1].text.strip()\n",
    "player1 = soup.find_all('td', class_='w130')[0].text.strip()\n",
    "player2 = soup.find_all('td', class_='w130')[1].text.strip()\n",
    "score = soup.find('span', id='score').text.strip()\n",
    "tournament = soup.find('td', class_='w200').find('a').text.strip()\n",
    "\n",
    "# Create a DataFrame\n",
    "data = {\n",
    "    'Date': [date],\n",
    "    'Round': [round_info],\n",
    "    'Player 1': [player1],\n",
    "    'Player 2': [player2],\n",
    "    'Score': [score],\n",
    "    'Tournament': [tournament]\n",
    "}\n",
    "\n",
    "df_match_info = pd.DataFrame(data)"
   ]
  },
  {
   "cell_type": "code",
   "execution_count": null,
   "id": "7094de4c",
   "metadata": {},
   "outputs": [],
   "source": [
    "df_match_info"
   ]
  },
  {
   "cell_type": "markdown",
   "id": "ace30260",
   "metadata": {},
   "source": [
    "### Match Statistics"
   ]
  },
  {
   "cell_type": "code",
   "execution_count": 7,
   "id": "e108572a",
   "metadata": {},
   "outputs": [],
   "source": [
    "# Function to extract data for a given statistic\n",
    "def extract_statistic(statistic):\n",
    "    row = soup.find('td', string=statistic).parent\n",
    "    player1_stat = row.find_all('td')[1].text.strip().split(' ')[0]\n",
    "    player2_stat = row.find_all('td')[2].text.strip().split(' ')[0]\n",
    "    return player1_stat, player2_stat\n",
    "\n",
    "statistics = [\n",
    "    '1st SERVE %',\n",
    "    '1st SERVE POINTS WON',\n",
    "    '2nd SERVE POINTS WON',\n",
    "    'TOTAL RETURN POINTS WON',\n",
    "    'TOTAL POINTS WON',\n",
    "    'DOUBLE FAULTS',\n",
    "    'ACES'\n",
    "]\n",
    "\n",
    "# List of statistics to extract \n",
    "stats_length = len(soup.find_all('td', class_='info_txt'))\n",
    "\n",
    "if stats_length == 8:\n",
    "    statistics.insert(3, 'BREAK POINTS WON')  # Insert 'BREAK POINTS WON' at the correct position\n",
    "\n",
    "# Dictionary to hold the statistics\n",
    "data = {}\n",
    "\n",
    "# Extract and store statistics for both players\n",
    "for stat in statistics:\n",
    "    player1_stat, player2_stat = extract_statistic(stat)\n",
    "    stat_name = stat.lower().replace(' ', '_').replace('%', 'percentage').replace('/', '_').replace('(','').replace(')','')\n",
    "    data[f'{stat_name}_player1'] = player1_stat\n",
    "    data[f'{stat_name}_player2'] = player2_stat\n",
    "\n",
    "# Convert the dictionary to a DataFrame\n",
    "df_stats = pd.DataFrame([data])"
   ]
  },
  {
   "cell_type": "code",
   "execution_count": null,
   "id": "1faf0eee",
   "metadata": {},
   "outputs": [],
   "source": [
    "df_stats"
   ]
  },
  {
   "cell_type": "markdown",
   "id": "845eeace",
   "metadata": {},
   "source": [
    "### Combine the DataFrames by column binding them\n"
   ]
  },
  {
   "cell_type": "code",
   "execution_count": null,
   "id": "64beb338",
   "metadata": {},
   "outputs": [],
   "source": [
    "# Combine the DataFrames by column binding them\n",
    "df_combined = pd.concat([df_match_info, df_stats], axis=1)\n",
    "\n",
    "df_combined"
   ]
  },
  {
   "cell_type": "code",
   "execution_count": 10,
   "id": "75bb91a9",
   "metadata": {},
   "outputs": [],
   "source": [
    "\n",
    "# # Extract match information\n",
    "# date = soup.find('td', class_='w50').text.strip().split(' ')[0]\n",
    "# round_info = soup.find_all('td', class_='w50')[1].text.strip()\n",
    "# player1 = soup.find_all('td', class_='w130')[0].text.strip()\n",
    "# player2 = soup.find_all('td', class_='w130')[1].text.strip()\n",
    "# score = soup.find('span', id='score').text.strip()\n",
    "# tournament = soup.find('td', class_='w200').find('a').text.strip()\n",
    "\n",
    "# # Create a DataFrame for match info\n",
    "# match_data = {\n",
    "#     'Date': [date],\n",
    "#     'Round': [round_info],\n",
    "#     'Player 1': [player1],\n",
    "#     'Player 2': [player2],\n",
    "#     'Score': [score],\n",
    "#     'Tournament': [tournament]\n",
    "# }\n",
    "# df_match_info = pd.DataFrame(match_data)\n",
    "\n",
    "# # Function to extract data for a given statistic\n",
    "# def extract_statistic(statistic):\n",
    "#     row = soup.find('td', string=statistic).parent\n",
    "#     player1_stat = row.find_all('td')[1].text.strip().split(' ')[0]\n",
    "#     player2_stat = row.find_all('td')[2].text.strip().split(' ')[0]\n",
    "#     return player1_stat, player2_stat\n",
    "\n",
    "# # List of statistics to extract\n",
    "# statistics = [\n",
    "#     '1st SERVE %',\n",
    "#     '1st SERVE POINTS WON',\n",
    "#     '2nd SERVE POINTS WON',\n",
    "#     'TOTAL RETURN POINTS WON',\n",
    "#     'TOTAL POINTS WON',\n",
    "#     'DOUBLE FAULTS',\n",
    "#     'ACES'\n",
    "# ]\n",
    "\n",
    "# # List of statistics to extract \n",
    "# stats_length = len(soup.find_all('td', class_='info_txt'))\n",
    "\n",
    "# if stats_length == 8:\n",
    "#     statistics.insert(3, 'BREAK POINTS WON')  # Insert 'BREAK POINTS WON' at the correct position\n",
    "\n",
    "\n",
    "\n",
    "# # Dictionary to hold the statistics\n",
    "# stat_data = {}\n",
    "\n",
    "# # Extract and store statistics for both players\n",
    "# for stat in statistics:\n",
    "#     player1_stat, player2_stat = extract_statistic(stat)\n",
    "#     stat_name = stat.lower().replace(' ', '_').replace('%', 'percentage').replace('/', '_').replace('(','').replace(')','')\n",
    "#     stat_data[f'{stat_name}_player1'] = player1_stat\n",
    "#     stat_data[f'{stat_name}_player2'] = player2_stat\n",
    "\n",
    "# # Convert the dictionary to a DataFrame\n",
    "# df_stats = pd.DataFrame([stat_data])\n",
    "\n",
    "# # Combine the DataFrames by column binding them\n",
    "# df_combined = pd.concat([df_match_info, df_stats], axis=1)\n",
    "\n",
    "# df_combined"
   ]
  },
  {
   "cell_type": "markdown",
   "id": "39395c76",
   "metadata": {},
   "source": [
    "# Extract Data from Multiple Links "
   ]
  },
  {
   "cell_type": "code",
   "execution_count": 11,
   "id": "79ee104b",
   "metadata": {},
   "outputs": [],
   "source": [
    "import pandas as pd\n",
    "\n",
    "import requests\n",
    "\n",
    "from bs4 import BeautifulSoup"
   ]
  },
  {
   "cell_type": "code",
   "execution_count": 12,
   "id": "598a7f30",
   "metadata": {},
   "outputs": [],
   "source": [
    "\n",
    "def extract_match_data(urls):\n",
    "    data_list = []\n",
    "    \n",
    "    for url in urls:\n",
    "        # Fetch HTML content from the URL\n",
    "        response = requests.get(url)\n",
    "        soup = BeautifulSoup(response.content, 'html.parser')\n",
    "        \n",
    "        # Extract match information\n",
    "        date = soup.find('td', class_='w50').text.strip().split(' ')[0]\n",
    "        round_info = soup.find_all('td', class_='w50')[1].text.strip()\n",
    "        player1 = soup.find_all('td', class_='w130')[0].text.strip()\n",
    "        player2 = soup.find_all('td', class_='w130')[1].text.strip()\n",
    "        score = soup.find('span', id='score').text.strip()\n",
    "        tournament = soup.find('td', class_='w200').find('a').text.strip()\n",
    "        \n",
    "        # Extract statistics function\n",
    "        def extract_statistic(statistic):\n",
    "            row = soup.find('td', string=statistic).parent\n",
    "            player1_stat = row.find_all('td')[1].text.strip().split(' ')[0]\n",
    "            player2_stat = row.find_all('td')[2].text.strip().split(' ')[0]\n",
    "            return player1_stat, player2_stat\n",
    "        \n",
    "            # List of statistics to extract\n",
    "            statistics = [\n",
    "                '1st SERVE %',\n",
    "                '1st SERVE POINTS WON',\n",
    "                '2nd SERVE POINTS WON',\n",
    "                'TOTAL RETURN POINTS WON',\n",
    "                'TOTAL POINTS WON',\n",
    "                'DOUBLE FAULTS',\n",
    "                'ACES'\n",
    "            ]\n",
    "\n",
    "            # List of statistics to extract \n",
    "            stats_length = len(soup.find_all('td', class_='info_txt'))\n",
    "\n",
    "            if stats_length == 8:\n",
    "                statistics.insert(3, 'BREAK POINTS WON')  # Insert 'BREAK POINTS WON' at the correct position\n",
    "\n",
    "        \n",
    "        # Extract statistics for original players\n",
    "        \n",
    "        stat_data = {}\n",
    "        \n",
    "        for stat in statistics:\n",
    "            player1_stat, player2_stat = extract_statistic(stat)\n",
    "            stat_name = stat.lower().replace(' ', '_').replace('%', 'percentage').replace('/', '_').replace('(','').replace(')','')\n",
    "            stat_data[f'{stat_name}_player1'] = player1_stat\n",
    "            stat_data[f'{stat_name}_player2'] = player2_stat\n",
    "        \n",
    "        # Append match data to the list\n",
    "        match_data = {\n",
    "            'Date': date,\n",
    "            'Round': round_info,\n",
    "            'Player 1': player1,\n",
    "            'Player 2': player2,\n",
    "            'Score': score,\n",
    "            'Tournament': tournament,\n",
    "            **stat_data\n",
    "        }\n",
    "        data_list.append(match_data)\n",
    "    \n",
    "    # Convert list of dictionaries to DataFrame\n",
    "    df = pd.DataFrame(data_list)\n",
    "    \n",
    "    # Sort DataFrame by Date in descending order\n",
    "    df['Date'] = pd.to_datetime(df['Date'], format='%d.%m.%y')\n",
    "    \n",
    "    df = df.sort_values(by='Date', ascending=True).reset_index(drop=True)\n",
    "    \n",
    "    return df\n"
   ]
  },
  {
   "cell_type": "code",
   "execution_count": null,
   "id": "7aac4e6f",
   "metadata": {
    "scrolled": false
   },
   "outputs": [],
   "source": [
    "extract_match_data(['https://www.tennislive.net/atp/match/bernard-tomic-VS-govind-nanda/m25-tulsa-2024/'])"
   ]
  },
  {
   "cell_type": "markdown",
   "id": "c31304f4",
   "metadata": {},
   "source": [
    "### Accomodating for the player profile link"
   ]
  },
  {
   "cell_type": "code",
   "execution_count": 14,
   "id": "98088962",
   "metadata": {},
   "outputs": [],
   "source": [
    "response = requests.get('https://www.tennislive.net/atp/match/rudy-quan-VS-shintaro-imai/little-rock-challenger-2024/')\n",
    "soup = BeautifulSoup(response.content, 'html.parser')"
   ]
  },
  {
   "cell_type": "markdown",
   "id": "ea2a6fbc",
   "metadata": {},
   "source": [
    "### Modify Function\n",
    "- https://www.tennislive.net/atp/match/rudy-quan-VS-jonas-pelle-hartenstein/m15-orange-park-2024/\n",
    "- ^modify function for profiles with no statistics"
   ]
  },
  {
   "cell_type": "code",
   "execution_count": 15,
   "id": "58998136",
   "metadata": {},
   "outputs": [],
   "source": [
    "import requests\n",
    "from bs4 import BeautifulSoup\n",
    "import pandas as pd\n",
    "\n",
    "def extract_match_data(urls):\n",
    "    data_list = []\n",
    "    \n",
    "    for url in urls:\n",
    "        # Fetch HTML content from the URL\n",
    "        response = requests.get(url)\n",
    "        soup = BeautifulSoup(response.content, 'html.parser')\n",
    "        \n",
    "        # Extract match information\n",
    "        date = soup.find('td', class_='w50').text.strip().split(' ')[0]\n",
    "        round_info = soup.find_all('td', class_='w50')[1].text.strip()\n",
    "        player1 = soup.find_all('td', class_='w130')[0].text.strip()\n",
    "        player2 = soup.find_all('td', class_='w130')[1].text.strip()\n",
    "        score = soup.find('span', id='score').text.strip()\n",
    "        tournament = soup.find('td', class_='w200').find('a').text.strip()\n",
    "        \n",
    "        # Extract statistics function\n",
    "        def extract_statistic(statistic):\n",
    "            row = soup.find('td', string=statistic).parent\n",
    "            player1_stat = row.find_all('td')[1].text.strip().split(' ')[0]\n",
    "            player2_stat = row.find_all('td')[2].text.strip().split(' ')[0]\n",
    "            return player1_stat, player2_stat\n",
    "        \n",
    "        # List of statistics to extract\n",
    "        statistics = [\n",
    "            '1st SERVE %',\n",
    "            '1st SERVE POINTS WON',\n",
    "            '2nd SERVE POINTS WON',\n",
    "            'TOTAL RETURN POINTS WON',\n",
    "            'TOTAL POINTS WON',\n",
    "            'DOUBLE FAULTS',\n",
    "            'ACES'\n",
    "        ]\n",
    "\n",
    "        # List of statistics to extract \n",
    "        stats_length = len(soup.find_all('td', class_='info_txt'))\n",
    "\n",
    "        if stats_length == 8:\n",
    "            statistics.insert(3, 'BREAK POINTS WON')  # Insert 'BREAK POINTS WON' at the correct position\n",
    "        \n",
    "        # Extract statistics for original players\n",
    "        stat_data = {}\n",
    "        table = soup.find_all('table', class_ = 'table_stats_match')\n",
    "\n",
    "        if len(table) > 0 and table[0].find('td', class_='info_txt'):  # Process only if the table has data\n",
    "            for stat in statistics:\n",
    "                player1_stat, player2_stat = extract_statistic(stat)  # Extract stats for each player\n",
    "                stat_name = (stat.lower()\n",
    "                                .replace(' ', '_')\n",
    "                                .replace('%', 'percentage')\n",
    "                                .replace('/', '_')\n",
    "                                .replace('(', '')\n",
    "                                .replace(')', ''))\n",
    "\n",
    "                # Store stats in dictionary\n",
    "                stat_data[f'{stat_name}_player1'] = player1_stat\n",
    "                stat_data[f'{stat_name}_player2'] = player2_stat\n",
    "        else:\n",
    "            # If the table is empty, set all stats to None\n",
    "            for stat in statistics:\n",
    "                stat_name = (stat.lower()\n",
    "                                .replace(' ', '_')\n",
    "                                .replace('%', 'percentage')\n",
    "                                .replace('/', '_')\n",
    "                                .replace('(', '')\n",
    "                                .replace(')', ''))\n",
    "\n",
    "                stat_data[f'{stat_name}_player1'] = None\n",
    "                stat_data[f'{stat_name}_player2'] = None\n",
    "\n",
    "        # Append match data to the list\n",
    "        match_data = {\n",
    "            'Date': date,\n",
    "            'Round': round_info,\n",
    "            'Player 1': player1,\n",
    "            'Player 2': player2,\n",
    "            'Score': score,\n",
    "            'Tournament': tournament,\n",
    "            **stat_data\n",
    "        }\n",
    "        data_list.append(match_data)\n",
    "    \n",
    "    # Convert list of dictionaries to DataFrame\n",
    "    df = pd.DataFrame(data_list)\n",
    "    \n",
    "    # Sort DataFrame by Date in descending order\n",
    "    df['Date'] = pd.to_datetime(df['Date'], format='%d.%m.%y')\n",
    "    \n",
    "    df = df.sort_values(by='Date', ascending=False).reset_index(drop=True)\n",
    "    \n",
    "    return df"
   ]
  },
  {
   "cell_type": "code",
   "execution_count": null,
   "id": "94de5313",
   "metadata": {},
   "outputs": [],
   "source": [
    "# Example usage\n",
    "urls = ['https://www.tennislive.net/atp/match/rudy-quan-VS-viktor-frydrych/us-open-juniors-2024/#google_vignette',\n",
    "       'https://www.tennislive.net/atp/match/rudy-quan-VS-jonas-pelle-hartenstein/m15-orange-park-2024/',\n",
    "       'https://www.tennislive.net/atp/match/rudy-quan-VS-viktor-frydrych/us-open-juniors-2024/']\n",
    "df = extract_match_data(urls)\n",
    "df"
   ]
  },
  {
   "cell_type": "code",
   "execution_count": null,
   "id": "de29caab",
   "metadata": {},
   "outputs": [],
   "source": [
    "extract_match_data(['https://www.tennislive.net/atp/match/rudy-quan-VS-jonas-pelle-hartenstein/m15-orange-park-2024/'])"
   ]
  },
  {
   "cell_type": "code",
   "execution_count": null,
   "id": "d4e97075",
   "metadata": {},
   "outputs": [],
   "source": [
    "extract_match_data(['https://www.tennislive.net/atp/match/rudy-quan-VS-shintaro-imai/little-rock-challenger-2024/'])"
   ]
  },
  {
   "cell_type": "code",
   "execution_count": null,
   "id": "3155d1bd",
   "metadata": {},
   "outputs": [],
   "source": [
    "extract_match_data(['https://www.tennislive.net/atp/match/rudy-quan-VS-viktor-frydrych/us-open-juniors-2024/'])"
   ]
  },
  {
   "cell_type": "markdown",
   "id": "88fe06c3",
   "metadata": {},
   "source": [
    "### INPUT (playerName) and (links) HERE"
   ]
  },
  {
   "cell_type": "code",
   "execution_count": null,
   "id": "09d659a6",
   "metadata": {
    "scrolled": false
   },
   "outputs": [],
   "source": [
    "# Example usage:\n",
    "# player_name = \"Mikel Lopez Hernaez\"\n",
    "\n",
    "urls = ['https://www.tennislive.net/atp/match/rudy-quan-VS-jonas-pelle-hartenstein/m15-orange-park-2024/',\n",
    "        'https://www.tennislive.net/atp/match/rudy-quan-VS-shintaro-imai/little-rock-challenger-2024/',\n",
    "        'https://www.tennislive.net/atp/match/rudy-quan-VS-filip-peliwo/little-rock-challenger-2024/',\n",
    "        'https://www.tennislive.net/atp/match/rudy-quan-VS-stefan-kozlov/little-rock-challenger-2024/',\n",
    "        'https://www.tennislive.net/atp/match/rudy-quan-VS-andres-andrade/little-rock-challenger-2024/',\n",
    "        'https://www.tennislive.net/atp/match/yuta-shimizu-VS-rudy-quan/little-rock-challenger-2024/'\n",
    "]\n",
    "\n",
    "# extract_match_data(player_name, urls)\n",
    "extract_match_data(urls)\n",
    "\n",
    "# page.status_code"
   ]
  },
  {
   "cell_type": "markdown",
   "id": "d041036f",
   "metadata": {},
   "source": [
    "# Accomodate for Player Profile Page"
   ]
  },
  {
   "cell_type": "markdown",
   "id": "23024aed",
   "metadata": {},
   "source": [
    "### Cj Notes"
   ]
  },
  {
   "cell_type": "code",
   "execution_count": 21,
   "id": "4e706f34",
   "metadata": {},
   "outputs": [],
   "source": [
    "page = requests.get('https://www.tennislive.net/atp/ethan-quinn/')"
   ]
  },
  {
   "cell_type": "code",
   "execution_count": 22,
   "id": "b7295f5b",
   "metadata": {},
   "outputs": [],
   "source": [
    "soup = BeautifulSoup(page.text, 'html')"
   ]
  },
  {
   "cell_type": "code",
   "execution_count": 23,
   "id": "f13b2e4e",
   "metadata": {
    "scrolled": false
   },
   "outputs": [],
   "source": [
    "table = soup.find_all('table', class_ = 'table_pmatches')[1]"
   ]
  },
  {
   "cell_type": "code",
   "execution_count": 24,
   "id": "f39ce203",
   "metadata": {
    "scrolled": true
   },
   "outputs": [],
   "source": [
    "rows = table.find_all('td', class_='w50')"
   ]
  },
  {
   "cell_type": "markdown",
   "id": "dc6d5fdf",
   "metadata": {},
   "source": [
    "### Grab the Link\n",
    "##### WARNING: This also grabs the links of the player profiles, we only want the match links\n",
    "- use the fact that the match links are every 3rd index as per the previous cells"
   ]
  },
  {
   "cell_type": "code",
   "execution_count": null,
   "id": "425b6470",
   "metadata": {
    "scrolled": true
   },
   "outputs": [],
   "source": [
    "match_links = []\n",
    "\n",
    "for a in table.find_all('a', href=True):\n",
    "    if \"https://www.tennislive.net/atp/match/\" in a['href']:\n",
    "        match_links.append(a['href'])\n",
    "        \n",
    "        \n",
    "match_links"
   ]
  },
  {
   "cell_type": "code",
   "execution_count": null,
   "id": "e3cf960c",
   "metadata": {},
   "outputs": [],
   "source": [
    "extract_match_data(match_links)"
   ]
  },
  {
   "cell_type": "code",
   "execution_count": 27,
   "id": "af20678c",
   "metadata": {},
   "outputs": [],
   "source": [
    "def player_profile(url):\n",
    "    \n",
    "    page = requests.get(url)\n",
    "    soup = BeautifulSoup(page.text, 'html')\n",
    "    \n",
    "    table = soup.find_all('table', class_ = 'table_pmatches')[1]\n",
    "    rows = table.find_all('td', class_='w50')\n",
    "    \n",
    "    \n",
    "    match_links = []\n",
    "\n",
    "    for a in table.find_all('a', href=True):\n",
    "        if \"https://www.tennislive.net/atp/match/\" in a['href']:\n",
    "            match_links.append(a['href'])\n",
    "            \n",
    "    return extract_match_data(match_links)\n",
    "\n",
    "\n",
    "# (edit this function to accomodate for missing stats error)\n",
    "#     - so copy and paste the function to edit it before this cell\n",
    "    \n",
    "#     output dataframe"
   ]
  },
  {
   "cell_type": "code",
   "execution_count": null,
   "id": "10f2026a",
   "metadata": {},
   "outputs": [],
   "source": [
    "url = 'https://www.tennislive.net/atp/govind-nanda/'\n",
    "player_profile(url)"
   ]
  },
  {
   "cell_type": "code",
   "execution_count": null,
   "id": "3df4d562",
   "metadata": {},
   "outputs": [],
   "source": [
    "url = 'https://www.tennislive.net/atp/rudy-quan/'\n",
    "player_profile(url)"
   ]
  },
  {
   "cell_type": "markdown",
   "id": "29608579",
   "metadata": {},
   "source": [
    "player_data.to_csv(f'GovindNanda_profile.csv', index=False)"
   ]
  },
  {
   "cell_type": "markdown",
   "id": "0f9bc184",
   "metadata": {},
   "source": [
    "# Point by Point (PBP) Dataframe"
   ]
  },
  {
   "cell_type": "code",
   "execution_count": 31,
   "id": "24c90656",
   "metadata": {},
   "outputs": [],
   "source": [
    "page = requests.get('https://www.tennislive.net/atp/match/borna-gojo-VS-rudy-quan/sioux-falls-challenger-2024/')"
   ]
  },
  {
   "cell_type": "code",
   "execution_count": 32,
   "id": "26e39c82",
   "metadata": {},
   "outputs": [],
   "source": [
    "soup = BeautifulSoup(page.text, 'html')"
   ]
  },
  {
   "cell_type": "markdown",
   "id": "e78a0485",
   "metadata": {},
   "source": [
    "### Check Status Code\n",
    "- 200 = success\n",
    "- 404 = failed"
   ]
  },
  {
   "cell_type": "code",
   "execution_count": null,
   "id": "8066540a",
   "metadata": {
    "scrolled": true
   },
   "outputs": [],
   "source": [
    "page.status_code"
   ]
  },
  {
   "cell_type": "markdown",
   "id": "52f46231",
   "metadata": {},
   "source": [
    "### Find HTML Tags that Have Point By Point (PBP) Data\n",
    "\n",
    "The `table` tag with the class `table_stats_match` contains all the info needed for the point by point data."
   ]
  },
  {
   "cell_type": "code",
   "execution_count": 34,
   "id": "73df91f9",
   "metadata": {},
   "outputs": [],
   "source": [
    "table = soup.find_all('table', class_ = 'table_stats_match')\n",
    "# table[1]"
   ]
  },
  {
   "cell_type": "markdown",
   "id": "e548f42b",
   "metadata": {},
   "source": [
    "### First Set HTML"
   ]
  },
  {
   "cell_type": "code",
   "execution_count": null,
   "id": "14fc9c9e",
   "metadata": {},
   "outputs": [],
   "source": [
    "set_1 = soup.find_all('table', class_='table_stats_match')[1].find_all('tr', class_=None)\n",
    "set_1[0]"
   ]
  },
  {
   "cell_type": "markdown",
   "id": "9a23740c",
   "metadata": {},
   "source": [
    "### Example of Getting Server of First Game"
   ]
  },
  {
   "cell_type": "code",
   "execution_count": null,
   "id": "eaf0e546",
   "metadata": {},
   "outputs": [],
   "source": [
    "' '.join(set_1[0].find('img')['alt'].split()[0:2])"
   ]
  },
  {
   "cell_type": "markdown",
   "id": "ec578617",
   "metadata": {},
   "source": [
    "### Example of Extracting PBP From First Game"
   ]
  },
  {
   "cell_type": "code",
   "execution_count": null,
   "id": "dbed0e54",
   "metadata": {},
   "outputs": [],
   "source": [
    "set_1[1].find('td')"
   ]
  },
  {
   "cell_type": "markdown",
   "id": "d8d5575e",
   "metadata": {},
   "source": [
    "Here we replace `[BP]` with signifies a \"break-point\" in the game with empty strings to keep the point data consistent. Then we can simply split the string into the points."
   ]
  },
  {
   "cell_type": "code",
   "execution_count": null,
   "id": "6fce5a68",
   "metadata": {},
   "outputs": [],
   "source": [
    "set_1[1].find('td').text.replace('[BP]', '').split(', ')"
   ]
  },
  {
   "cell_type": "markdown",
   "id": "98c74eed",
   "metadata": {},
   "source": [
    "### Example of Creating a PBP DataFrame from Set 1"
   ]
  },
  {
   "cell_type": "code",
   "execution_count": 39,
   "id": "3cc39616",
   "metadata": {},
   "outputs": [],
   "source": [
    "# initialize lists to hold each of the designated values\n",
    "server_names = []\n",
    "point_scores = []\n",
    "game_scores = []\n",
    "\n",
    "# iterate over all the `tr` tags in set_1\n",
    "# step over by 2 since each server and PBP data is paired together\n",
    "for i in range(0, len(set_1), 2):\n",
    "    # extract the data from the tr\n",
    "    server_name = ' '.join(set_1[i].find('img')['alt'].split()[0:2])\n",
    "    game_score = set_1[i].find('td', class_='mp_info_txt').text.strip()\n",
    "    points = set_1[i + 1].find('td').text.replace('[BP]', '').split(', ')\n",
    "    \n",
    "    # create a row for each point in the game\n",
    "    for point in points:\n",
    "        server_names.append(server_name)\n",
    "        point_scores.append(point)\n",
    "        game_scores.append(game_score)\n"
   ]
  },
  {
   "cell_type": "code",
   "execution_count": null,
   "id": "486f4133",
   "metadata": {},
   "outputs": [],
   "source": [
    "# construct the dataframe \n",
    "df = pd.DataFrame({\n",
    "    'point_score': point_scores,\n",
    "    'server_name': server_names,\n",
    "    'game_score': game_scores\n",
    "})\n",
    "\n",
    "# replace the last known score with 0-0 since the score\n",
    "# doesn't update between sets\n",
    "df = df.replace(df['game_score'].iloc[-1], '0-0')\n",
    "df"
   ]
  },
  {
   "cell_type": "markdown",
   "id": "e9cdc0dd",
   "metadata": {},
   "source": [
    "### Find and Denote Each Player to Correctly Swap the Scores\n",
    "\n",
    "We do this because the PBP is always in the order of `player1`-`player2`. To make the dataframe easier to understand, we swap the point and game scores when the server is `player2` as the server's points are read first."
   ]
  },
  {
   "cell_type": "code",
   "execution_count": null,
   "id": "bf522be8",
   "metadata": {
    "scrolled": true
   },
   "outputs": [],
   "source": [
    "table = soup.find('table', class_ = 'table_pmatches')\n",
    "\n",
    "player1 = soup.find_all('td', class_='w130')[0].text.strip()\n",
    "player2 = soup.find_all('td', class_='w130')[1].text.strip()\n",
    "\n",
    "player1, player2"
   ]
  },
  {
   "cell_type": "code",
   "execution_count": null,
   "id": "b7e83208",
   "metadata": {
    "scrolled": true
   },
   "outputs": [],
   "source": [
    "df.iloc[3]"
   ]
  },
  {
   "cell_type": "code",
   "execution_count": null,
   "id": "fd96325b",
   "metadata": {
    "scrolled": true
   },
   "outputs": [],
   "source": [
    "'-'.join(df['point_score'][3].split('-')[::-1])"
   ]
  },
  {
   "cell_type": "code",
   "execution_count": 44,
   "id": "f34ab038",
   "metadata": {},
   "outputs": [],
   "source": [
    "df['point_score'] = df.apply(lambda x : '-'.join(x['point_score'].split('-')[::-1]) if x['server_name'] == player2 else x['point_score'], axis=1)\n",
    "df['game_score'] = df.apply(lambda x : '-'.join(x['game_score'].split('-')[::-1]) if x['server_name'] == player2 else x['game_score'], axis=1)"
   ]
  },
  {
   "cell_type": "code",
   "execution_count": null,
   "id": "3d3a97a1",
   "metadata": {},
   "outputs": [],
   "source": [
    "df"
   ]
  },
  {
   "cell_type": "markdown",
   "id": "59bbe96f",
   "metadata": {},
   "source": [
    "### Generalize the Scraping to Apply to All Sets\n",
    "\n",
    "We'll add a new column to keep track of the set number as well to help with readability in the dataframe."
   ]
  },
  {
   "cell_type": "code",
   "execution_count": 93,
   "id": "eef7941e",
   "metadata": {},
   "outputs": [],
   "source": [
    "# 2 set example\n",
    "page = requests.get('https://www.tennislive.net/atp/match/borna-gojo-VS-rudy-quan/sioux-falls-challenger-2024/')"
   ]
  },
  {
   "cell_type": "code",
   "execution_count": 94,
   "id": "c7c87708",
   "metadata": {},
   "outputs": [],
   "source": [
    "soup = BeautifulSoup(page.text, 'html')"
   ]
  },
  {
   "cell_type": "code",
   "execution_count": 95,
   "id": "50f02347",
   "metadata": {},
   "outputs": [],
   "source": [
    "def extract_point_by_point(url):\n",
    "    # get HTML from url and convert to BeautifulSoup\n",
    "    page = requests.get(url)\n",
    "    soup = BeautifulSoup(page.text, 'html')\n",
    "    \n",
    "    # find player names\n",
    "    table = soup.find('table', class_ = 'table_pmatches')\n",
    "    player1 = soup.find_all('td', class_='w130')[0].text.strip()\n",
    "    player2 = soup.find_all('td', class_='w130')[1].text.strip()\n",
    "    \n",
    "    # get all set data\n",
    "    content = soup.find_all('table', class_='table_stats_match')[1:]\n",
    "\n",
    "    # initialize list to hold data for all sets\n",
    "    set_dfs = []\n",
    "\n",
    "    for j in range(len(content)):\n",
    "        # initialize lists to hold each of the designated values\n",
    "        server_names = []\n",
    "        point_scores = []\n",
    "        game_scores = []\n",
    "        set_num = []\n",
    "        is_break_points = []\n",
    "\n",
    "        # get all table data for the current set\n",
    "        current_set = content[j].find_all('tr', class_=None)\n",
    "\n",
    "        # determine starting tag by how the table is formatted\n",
    "        start = 0\n",
    "        if not current_set[1].find('td', class_='mp_15'):\n",
    "            start = 1\n",
    "\n",
    "        if len(current_set) % 2 == 0:\n",
    "            length_current_set = len(current_set) - 1\n",
    "        else:\n",
    "            length_current_set = len(current_set)\n",
    "\n",
    "        # iterate over all the `tr` tags in set_1\n",
    "        # step over by 2 since each server and PBP data is paired together\n",
    "        for i in range(start, length_current_set, 2):\n",
    "            # extract the data from the tr\n",
    "            server_name = ' '.join(current_set[i].find('img')['alt'].split()[0:-1])\n",
    "            game_score = current_set[i].find('td', class_='mp_info_txt').text.strip()\n",
    "            points = current_set[i + 1].find('td').text.split(', ')\n",
    "\n",
    "            # create a new row for each point\n",
    "            for point in points:\n",
    "                \n",
    "                if '[BP]' in point:\n",
    "                    is_break_point = True\n",
    "                    point = point.replace('[BP]', '').strip()\n",
    "                else:\n",
    "                    is_break_point = False\n",
    "\n",
    "                server_names.append(server_name)\n",
    "                point_scores.append(point)\n",
    "                game_scores.append(game_score)\n",
    "                set_num.append(j + 1)\n",
    "                is_break_points.append(is_break_point)\n",
    "\n",
    "        # construct the dataframe\n",
    "        df = pd.DataFrame({\n",
    "            'pointScore': point_scores,\n",
    "            'serverName': server_names,\n",
    "            'gameScore': game_scores,\n",
    "            'setNum': set_num,\n",
    "            'isBreakPoint': is_break_points\n",
    "        })\n",
    "\n",
    "        last_game_score = df['gameScore'].iloc[-1]\n",
    "\n",
    "        if '6' in last_game_score and (last_game_score != '6-6' and last_game_score != '6-5' and last_game_score != '5-6'):\n",
    "            df.loc[df['gameScore'] == df['gameScore'].iloc[-1], 'setNum'] += 1\n",
    "            df.loc[df['gameScore'] == df['gameScore'].iloc[-1], 'gameScore'] = '0-0' \n",
    "\n",
    "            # switch server names when in tiebreaker        \n",
    "        if '6-6' in last_game_score or '0-0' in last_game_score:\n",
    "            tiebreaker_df = df[df['gameScore'] == last_game_score]\n",
    "            tiebreaker_rows = df.shape[0] - tiebreaker_df.shape[0]\n",
    "            server = tiebreaker_df['serverName'].iloc[0]\n",
    "\n",
    "            if player1 != server:\n",
    "                server = player1\n",
    "\n",
    "            for i in range(1, len(tiebreaker_df), 4):\n",
    "                df.loc[tiebreaker_rows + i:tiebreaker_rows + i + 1, 'serverName'] = server\n",
    "                \n",
    "        set_dfs.append(df)\n",
    "        \n",
    "    df = pd.concat(set_dfs).reset_index(drop=True)    \n",
    "\n",
    "    # flip point_score and game_score of player2\n",
    "    df['pointScore'] = df.apply(lambda x : '-'.join(x['pointScore'].split('-')[::-1]) if x['serverName'] == player2 else x['pointScore'], axis=1)\n",
    "    df['gameScore'] = df.apply(lambda x : '-'.join(x['gameScore'].split('-')[::-1]) if x['serverName'] == player2 else x['gameScore'], axis=1)\n",
    "    \n",
    "    return df"
   ]
  },
  {
   "cell_type": "code",
   "execution_count": null,
   "id": "479efccf",
   "metadata": {},
   "outputs": [],
   "source": [
    "url = 'https://www.tennislive.net/atp/match/borna-gojo-VS-rudy-quan/sioux-falls-challenger-2024/'\n",
    "extract_point_by_point(url)"
   ]
  },
  {
   "cell_type": "code",
   "execution_count": null,
   "id": "d6be8dfe",
   "metadata": {
    "scrolled": false
   },
   "outputs": [],
   "source": [
    "url = 'https://www.tennislive.net/atp/match/govind-nanda-VS-karue-sell/m15-lakewood-2024/'\n",
    "extract_point_by_point(url)"
   ]
  },
  {
   "cell_type": "markdown",
   "id": "ea5bd2cb",
   "metadata": {},
   "source": [
    "### More Examples\n",
    "\n",
    "Some other interesting match urls are tested below to test functionality of varying sets and number of tiebreaks."
   ]
  },
  {
   "cell_type": "code",
   "execution_count": null,
   "id": "42a6bf76",
   "metadata": {
    "scrolled": true
   },
   "outputs": [],
   "source": [
    "url = 'https://www.tennislive.net/atp/match/yuta-shimizu-VS-rudy-quan/little-rock-challenger-2024/'\n",
    "extract_point_by_point(url).head(20)"
   ]
  },
  {
   "cell_type": "code",
   "execution_count": null,
   "id": "d1570371",
   "metadata": {
    "scrolled": true
   },
   "outputs": [],
   "source": [
    "url = 'https://www.tennislive.net/atp/match/jorge-plans-VS-mikel-lopez-hernaez/m25-bakio-2024/'\n",
    "extract_point_by_point(url)"
   ]
  },
  {
   "cell_type": "code",
   "execution_count": null,
   "id": "a2c0da30",
   "metadata": {},
   "outputs": [],
   "source": [
    "url = 'https://www.tennislive.net/atp/match/jorge-plans-VS-mikel-lopez-hernaez/m25-bakio-2024/'\n",
    "extract_point_by_point(url)"
   ]
  },
  {
   "cell_type": "code",
   "execution_count": null,
   "id": "493e483c",
   "metadata": {},
   "outputs": [],
   "source": [
    "url = 'https://www.tennislive.net/atp/match/mitchell-krueger-VS-abedallah-shelbayh/little-rock-challenger-2024/'\n",
    "extract_point_by_point(url)"
   ]
  },
  {
   "cell_type": "code",
   "execution_count": null,
   "id": "2c9f1179",
   "metadata": {},
   "outputs": [],
   "source": [
    "url = 'https://www.tennislive.net/atp/match/ethan-quinn-VS-rudy-quan/fairfield-challenger-2024/'\n",
    "extract_point_by_point(url)"
   ]
  },
  {
   "cell_type": "markdown",
   "id": "6d517272",
   "metadata": {},
   "source": [
    "# Input link and modify data frame to be formatted correctly"
   ]
  },
  {
   "cell_type": "code",
   "execution_count": 31,
   "id": "3169287b",
   "metadata": {
    "scrolled": true
   },
   "outputs": [],
   "source": [
    "url = 'https://www.tennislive.net/atp/match/yuta-shimizu-VS-rudy-quan/little-rock-challenger-2024/'\n",
    "df = extract_point_by_point(url)"
   ]
  },
  {
   "cell_type": "code",
   "execution_count": null,
   "id": "9b901023",
   "metadata": {},
   "outputs": [],
   "source": [
    "df[df['setNum'] == 1]"
   ]
  },
  {
   "cell_type": "markdown",
   "id": "76e438fc",
   "metadata": {},
   "source": [
    "## Add Columns"
   ]
  },
  {
   "cell_type": "markdown",
   "id": "6386928b",
   "metadata": {},
   "source": [
    "### Add pointNumber column"
   ]
  },
  {
   "cell_type": "code",
   "execution_count": 33,
   "id": "10d2bdf8",
   "metadata": {},
   "outputs": [],
   "source": [
    "df.insert(0, 'pointNumber', range(1, len(df) + 1))"
   ]
  },
  {
   "cell_type": "markdown",
   "id": "1708ac05",
   "metadata": {},
   "source": [
    "### Add gameNumber column"
   ]
  },
  {
   "cell_type": "code",
   "execution_count": 34,
   "id": "75836470",
   "metadata": {},
   "outputs": [],
   "source": [
    "def game_score(game):\n",
    "    return sum(map(int,('').join(game.split('-')))) + 1\n",
    "\n",
    "df['gameNumber'] = df['gameScore'].apply(game_score)"
   ]
  },
  {
   "cell_type": "markdown",
   "id": "8a92f58c",
   "metadata": {},
   "source": [
    "### Add player1Name and player2Name columns"
   ]
  },
  {
   "cell_type": "code",
   "execution_count": 35,
   "id": "f0beab36",
   "metadata": {},
   "outputs": [],
   "source": [
    "serverNames = df['serverName'].unique()\n",
    "\n",
    "player1 = serverNames[0]\n",
    "player2 = serverNames[1]\n",
    "\n",
    "df['player1Name'] = player1\n",
    "df['player2Name'] = player2"
   ]
  },
  {
   "cell_type": "markdown",
   "id": "dbf7398b",
   "metadata": {},
   "source": [
    "### Add returnName column"
   ]
  },
  {
   "cell_type": "code",
   "execution_count": 36,
   "id": "f93a6f67",
   "metadata": {},
   "outputs": [],
   "source": [
    "def switch_names(name):\n",
    "    if name != player1:\n",
    "        return player1\n",
    "    else :\n",
    "        return player2\n",
    "\n",
    "df['returnerName'] = df['serverName'].apply(switch_names)"
   ]
  },
  {
   "cell_type": "markdown",
   "id": "ec946c9b",
   "metadata": {},
   "source": [
    "### Add tiebreakeScore column"
   ]
  },
  {
   "cell_type": "code",
   "execution_count": 37,
   "id": "b9ab94cc",
   "metadata": {},
   "outputs": [],
   "source": [
    "# Transfer values from pointScore to tiebreakScore where gameScore is '6-6'\n",
    "if 'tiebreakScore' not in df.columns:\n",
    "    df['tiebreakScore'] = np.nan\n",
    "\n",
    "for i in df['setNum'].unique():\n",
    "    current_set = df[df['setNum'] == i]\n",
    "\n",
    "    last_game_score = current_set['gameScore'].iloc[-1]\n",
    "\n",
    "    if '6-6' in last_game_score or '0-0' in last_game_score:\n",
    "        df.loc[(df['setNum'] == i) & (df['gameScore'] == last_game_score), 'tiebreakScore'] = df['pointScore']\n",
    "        \n",
    "        # Set the pointScore to NaN where tiebreakScore is not NaN\n",
    "        df.loc[pd.notna(df['tiebreakScore']), 'pointScore'] = np.nan"
   ]
  },
  {
   "cell_type": "markdown",
   "id": "b58d2a64",
   "metadata": {},
   "source": [
    "### Add setScore column\n",
    "#### WARNING: Manually input the setScores for desired player"
   ]
  },
  {
   "cell_type": "code",
   "execution_count": 38,
   "id": "c61e6edd",
   "metadata": {},
   "outputs": [],
   "source": [
    "set_list = ['0-0', '1-0']\n",
    "\n",
    "def set_setScores(x):\n",
    "    \n",
    "    if 1 <= x <= len(set_list):\n",
    "        return set_list[x - 1]\n",
    "        \n",
    "df['setScore'] = df['setNum'].apply(set_setScores)"
   ]
  },
  {
   "cell_type": "code",
   "execution_count": null,
   "id": "e5eeea15",
   "metadata": {},
   "outputs": [],
   "source": [
    "df"
   ]
  },
  {
   "cell_type": "markdown",
   "id": "ea5bc234",
   "metadata": {},
   "source": [
    "### Add Timestamp columns"
   ]
  },
  {
   "cell_type": "code",
   "execution_count": 40,
   "id": "d852c3f7",
   "metadata": {},
   "outputs": [],
   "source": [
    "df['Position'] = ''\n",
    "df['pointEndPosition'] = ''\n",
    "df['Duration'] = ''"
   ]
  },
  {
   "cell_type": "markdown",
   "id": "354dc9fb",
   "metadata": {},
   "source": [
    "### Add Team columns\n",
    "#### WARNING: Manually set Team Names"
   ]
  },
  {
   "cell_type": "code",
   "execution_count": 41,
   "id": "18cf1edd",
   "metadata": {},
   "outputs": [],
   "source": [
    "df['clientTeam'] = 'UCLA'\n",
    "df['opponentTeam'] = ''"
   ]
  },
  {
   "cell_type": "markdown",
   "id": "5c80e562",
   "metadata": {},
   "source": [
    "### Add name column"
   ]
  },
  {
   "cell_type": "code",
   "execution_count": 42,
   "id": "f26df756",
   "metadata": {},
   "outputs": [],
   "source": [
    "df['Name'] = df.apply(lambda row: f\"Set {row['setNum']}: {row['gameScore']}, {row['tiebreakScore']} {row['serverName']} Serving\" if pd.notna(row['tiebreakScore']) else f\"Set {row['setNum']}: {row['gameScore']}, {row['pointScore']} {row['serverName']} Serving\", axis=1)"
   ]
  },
  {
   "cell_type": "markdown",
   "id": "bf08e7f9",
   "metadata": {},
   "source": [
    "## Specify Order"
   ]
  },
  {
   "cell_type": "code",
   "execution_count": 43,
   "id": "cd34225e",
   "metadata": {},
   "outputs": [],
   "source": [
    "df = df[['Name', 'pointNumber', 'setNum', 'gameNumber', 'player1Name', 'player2Name', \n",
    "         'pointScore', 'gameScore', 'setScore', 'tiebreakScore', 'serverName', 'returnerName',\n",
    "        'Position', 'pointEndPosition', 'Duration', 'isBreakPoint', 'clientTeam', 'opponentTeam']]\n"
   ]
  },
  {
   "cell_type": "code",
   "execution_count": null,
   "id": "f673a94c",
   "metadata": {
    "scrolled": true
   },
   "outputs": [],
   "source": [
    "df.head(5)"
   ]
  },
  {
   "cell_type": "markdown",
   "id": "12b16daa",
   "metadata": {},
   "source": [
    "# Add in Timestamps"
   ]
  },
  {
   "cell_type": "code",
   "execution_count": null,
   "id": "167c8955",
   "metadata": {},
   "outputs": [],
   "source": [
    "# # Put timestamps file here\n",
    "# timestamp = pd.read_csv(\"timestamps_9uYpCdMy4eA.csv\")"
   ]
  },
  {
   "cell_type": "code",
   "execution_count": null,
   "id": "f52ace6a-3895-4482-bd56-dd571e5ced6e",
   "metadata": {},
   "outputs": [],
   "source": [
    "# if timestamp.shape[0] != point_df.shape[0]:\n",
    "#     raise ValueError(\"Error: The number of rows in timestamp and point_df are not the same.\")\n",
    "# else:\n",
    "#     # Assign values to point_df\n",
    "#     point_df['Position'] = timestamp['pointStartTime'].values\n",
    "#     point_df['pointEndPosition'] = timestamp['endStartTime'].values\n",
    "#     print(\"\\u2713 Check passed\")"
   ]
  },
  {
   "cell_type": "markdown",
   "id": "61d22615",
   "metadata": {},
   "source": [
    "# Output the Point Visuals csv"
   ]
  },
  {
   "cell_type": "code",
   "execution_count": null,
   "id": "76c3a588",
   "metadata": {},
   "outputs": [],
   "source": [
    "# Save point_df to CSV file\n",
    "\n",
    "# Assuming point_df is your DataFrame and player1Name and player2Name are the names from the first row\n",
    "player1NameNoSpace = df.iloc[0]['player1Name'].replace(\" \", \"\")\n",
    "player2NameNoSpace = df.iloc[0]['player2Name'].replace(\" \", \"\")\n",
    "\n",
    "# Save DataFrame to CSV file with modified player names\n",
    "df.to_csv(f'Point_Visuals_{player1NameNoSpace}_{player2NameNoSpace}.csv', index=False)"
   ]
  }
 ],
 "metadata": {
  "kernelspec": {
   "display_name": "base",
   "language": "python",
   "name": "python3"
  },
  "language_info": {
   "codemirror_mode": {
    "name": "ipython",
    "version": 3
   },
   "file_extension": ".py",
   "mimetype": "text/x-python",
   "name": "python",
   "nbconvert_exporter": "python",
   "pygments_lexer": "ipython3",
   "version": "3.11.5"
  }
 },
 "nbformat": 4,
 "nbformat_minor": 5
}
